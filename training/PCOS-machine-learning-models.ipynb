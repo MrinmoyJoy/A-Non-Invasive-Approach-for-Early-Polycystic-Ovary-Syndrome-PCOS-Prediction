{
  "nbformat": 4,
  "nbformat_minor": 0,
  "metadata": {
    "colab": {
      "provenance": [],
      "collapsed_sections": [
        "j94pNWr1cXMA",
        "VMrzpbd7cwjB",
        "4ktoUGQJc5aP",
        "saOVYL_lf4Es",
        "gO3GtRtggRO3",
        "dtVZloaYgc18",
        "EG-f2q7qkyCN"
      ]
    },
    "kernelspec": {
      "name": "python3",
      "display_name": "Python 3"
    },
    "language_info": {
      "name": "python"
    }
  },
  "cells": [
    {
      "cell_type": "code",
      "execution_count": null,
      "metadata": {
        "id": "BnKONSNobqP9"
      },
      "outputs": [],
      "source": [
        "import pandas as pd\n",
        "import numpy as np\n",
        "import matplotlib.pyplot as mt\n",
        "from sklearn.metrics import confusion_matrix,accuracy_score,precision_score,recall_score,f1_score\n",
        "from sklearn.model_selection import KFold\n",
        "from sklearn.neighbors import KNeighborsClassifier\n",
        "from sklearn.tree import DecisionTreeClassifier\n",
        "from sklearn.model_selection import cross_val_score\n",
        "from sklearn.metrics import classification_report\n",
        "import matplotlib.pyplot as plt\n",
        "from sklearn.feature_selection import chi2\n",
        "from sklearn.ensemble import ExtraTreesClassifier"
      ]
    },
    {
      "cell_type": "markdown",
      "source": [
        "# **Mount Drive**"
      ],
      "metadata": {
        "id": "j94pNWr1cXMA"
      }
    },
    {
      "cell_type": "code",
      "source": [
        "from google.colab import drive\n",
        "drive.mount('/content/drive/')"
      ],
      "metadata": {
        "colab": {
          "base_uri": "https://localhost:8080/"
        },
        "id": "joB4sd1BccW-",
        "outputId": "26689d93-87d8-4c46-e4e2-4e4857171c04"
      },
      "execution_count": null,
      "outputs": [
        {
          "output_type": "stream",
          "name": "stdout",
          "text": [
            "Mounted at /content/drive/\n"
          ]
        }
      ]
    },
    {
      "cell_type": "code",
      "source": [
        "from google.colab import drive\n",
        "drive.mount('/content/drive/')\n",
        "df=pd.read_csv(\"/content/drive/MyDrive/Colab Notebooks/PCOS_data .csv\")"
      ],
      "metadata": {
        "colab": {
          "base_uri": "https://localhost:8080/"
        },
        "id": "oEiocCszckjK",
        "outputId": "7db0eba7-eea3-4620-e9c4-a1bcec7b50ac"
      },
      "execution_count": null,
      "outputs": [
        {
          "output_type": "stream",
          "name": "stdout",
          "text": [
            "Drive already mounted at /content/drive/; to attempt to forcibly remount, call drive.mount(\"/content/drive/\", force_remount=True).\n"
          ]
        }
      ]
    },
    {
      "cell_type": "code",
      "source": [
        "from google.colab import drive\n",
        "drive.mount('/content/drive')"
      ],
      "metadata": {
        "colab": {
          "base_uri": "https://localhost:8080/"
        },
        "id": "RVqsPhKHcohh",
        "outputId": "acf8eb84-f250-4eb8-fd70-5804dff9c2c0"
      },
      "execution_count": null,
      "outputs": [
        {
          "output_type": "stream",
          "name": "stdout",
          "text": [
            "Drive already mounted at /content/drive; to attempt to forcibly remount, call drive.mount(\"/content/drive\", force_remount=True).\n"
          ]
        }
      ]
    },
    {
      "cell_type": "markdown",
      "source": [
        "# **Preprocessing**"
      ],
      "metadata": {
        "id": "VMrzpbd7cwjB"
      }
    },
    {
      "cell_type": "code",
      "source": [
        "df.replace([np.inf, -np.inf], np.nan, inplace=True)\n",
        "df.fillna(value=df.mean(),inplace=True)\n",
        "df.drop_duplicates()\n"
      ],
      "metadata": {
        "colab": {
          "base_uri": "https://localhost:8080/"
        },
        "id": "rf8oYDf5ct-y",
        "outputId": "b2531435-b5ca-4a0f-9ea2-c35878632e39"
      },
      "execution_count": null,
      "outputs": [
        {
          "output_type": "execute_result",
          "data": {
            "text/plain": [
              "     Patient File No.   Age (yrs)  Weight (Kg)  Height(Cm)    BMI  \\\n",
              "0                   1          28         44.6      152.000  19.3   \n",
              "1                   2          36         65.0      161.500  24.9   \n",
              "2                   3          33         68.8      165.000  25.3   \n",
              "3                   4          37         65.0      148.000  29.7   \n",
              "4                   5          25         52.0      161.000  20.1   \n",
              "..                ...         ...          ...          ...   ...   \n",
              "536               537          35         50.0      164.592  18.5   \n",
              "537               538          30         63.2      158.000  25.3   \n",
              "538               539          36         54.0      152.000  23.4   \n",
              "539               540          27         50.0      150.000  22.2   \n",
              "540               541          23         82.0      165.000  30.1   \n",
              "\n",
              "     Blood Group  Pulse rate(bpm)   RR (breaths/min)  Hb(g/dl)  Cycle(R/I)  \\\n",
              "0             15                78                22     10.48           2   \n",
              "1             15                74                20     11.70           2   \n",
              "2             11                72                18     11.80           2   \n",
              "3             13                72                20     12.00           2   \n",
              "4             11                72                18     10.00           2   \n",
              "..           ...               ...               ...       ...         ...   \n",
              "536           17                72                16     11.00           2   \n",
              "537           15                72                18     10.80           2   \n",
              "538           13                74                20     10.80           2   \n",
              "539           15                74                20     12.00           4   \n",
              "540           13                80                20     10.20           4   \n",
              "\n",
              "     ...  Fast food (Y/N)  Reg.Exercise(Y/N)  BP _Systolic (mmHg)  \\\n",
              "0    ...                1                  0                  110   \n",
              "1    ...                0                  0                  120   \n",
              "2    ...                1                  0                  120   \n",
              "3    ...                0                  0                  120   \n",
              "4    ...                0                  0                  120   \n",
              "..   ...              ...                ...                  ...   \n",
              "536  ...                0                  0                  110   \n",
              "537  ...                0                  0                  110   \n",
              "538  ...                0                  0                  110   \n",
              "539  ...                0                  0                  110   \n",
              "540  ...                1                  0                  120   \n",
              "\n",
              "     BP _Diastolic (mmHg)  Follicle No. (L)  Follicle No. (R)  \\\n",
              "0                      80                 3                 3   \n",
              "1                      70                 3                 5   \n",
              "2                      80                13                15   \n",
              "3                      70                 2                 2   \n",
              "4                      80                 3                 4   \n",
              "..                    ...               ...               ...   \n",
              "536                    70                 1                 0   \n",
              "537                    70                 9                 7   \n",
              "538                    80                 1                 0   \n",
              "539                    70                 7                 6   \n",
              "540                    70                 9                10   \n",
              "\n",
              "     Avg. F size (L) (mm)  Avg. F size (R) (mm)  Endometrium (mm)  PCOS (Y/N)  \n",
              "0                    18.0                  18.0               8.5           0  \n",
              "1                    15.0                  14.0               3.7           0  \n",
              "2                    18.0                  20.0              10.0           1  \n",
              "3                    15.0                  14.0               7.5           0  \n",
              "4                    16.0                  14.0               7.0           0  \n",
              "..                    ...                   ...               ...         ...  \n",
              "536                  17.5                  10.0               6.7           0  \n",
              "537                  19.0                  18.0               8.2           0  \n",
              "538                  18.0                   9.0               7.3           0  \n",
              "539                  18.0                  16.0              11.5           0  \n",
              "540                  19.0                  18.0               6.9           1  \n",
              "\n",
              "[541 rows x 43 columns]"
            ],
            "text/html": [
              "\n",
              "  <div id=\"df-0b98ff36-7c2f-4285-bb57-faeedcc8a652\" class=\"colab-df-container\">\n",
              "    <div>\n",
              "<style scoped>\n",
              "    .dataframe tbody tr th:only-of-type {\n",
              "        vertical-align: middle;\n",
              "    }\n",
              "\n",
              "    .dataframe tbody tr th {\n",
              "        vertical-align: top;\n",
              "    }\n",
              "\n",
              "    .dataframe thead th {\n",
              "        text-align: right;\n",
              "    }\n",
              "</style>\n",
              "<table border=\"1\" class=\"dataframe\">\n",
              "  <thead>\n",
              "    <tr style=\"text-align: right;\">\n",
              "      <th></th>\n",
              "      <th>Patient File No.</th>\n",
              "      <th>Age (yrs)</th>\n",
              "      <th>Weight (Kg)</th>\n",
              "      <th>Height(Cm)</th>\n",
              "      <th>BMI</th>\n",
              "      <th>Blood Group</th>\n",
              "      <th>Pulse rate(bpm)</th>\n",
              "      <th>RR (breaths/min)</th>\n",
              "      <th>Hb(g/dl)</th>\n",
              "      <th>Cycle(R/I)</th>\n",
              "      <th>...</th>\n",
              "      <th>Fast food (Y/N)</th>\n",
              "      <th>Reg.Exercise(Y/N)</th>\n",
              "      <th>BP _Systolic (mmHg)</th>\n",
              "      <th>BP _Diastolic (mmHg)</th>\n",
              "      <th>Follicle No. (L)</th>\n",
              "      <th>Follicle No. (R)</th>\n",
              "      <th>Avg. F size (L) (mm)</th>\n",
              "      <th>Avg. F size (R) (mm)</th>\n",
              "      <th>Endometrium (mm)</th>\n",
              "      <th>PCOS (Y/N)</th>\n",
              "    </tr>\n",
              "  </thead>\n",
              "  <tbody>\n",
              "    <tr>\n",
              "      <th>0</th>\n",
              "      <td>1</td>\n",
              "      <td>28</td>\n",
              "      <td>44.6</td>\n",
              "      <td>152.000</td>\n",
              "      <td>19.3</td>\n",
              "      <td>15</td>\n",
              "      <td>78</td>\n",
              "      <td>22</td>\n",
              "      <td>10.48</td>\n",
              "      <td>2</td>\n",
              "      <td>...</td>\n",
              "      <td>1</td>\n",
              "      <td>0</td>\n",
              "      <td>110</td>\n",
              "      <td>80</td>\n",
              "      <td>3</td>\n",
              "      <td>3</td>\n",
              "      <td>18.0</td>\n",
              "      <td>18.0</td>\n",
              "      <td>8.5</td>\n",
              "      <td>0</td>\n",
              "    </tr>\n",
              "    <tr>\n",
              "      <th>1</th>\n",
              "      <td>2</td>\n",
              "      <td>36</td>\n",
              "      <td>65.0</td>\n",
              "      <td>161.500</td>\n",
              "      <td>24.9</td>\n",
              "      <td>15</td>\n",
              "      <td>74</td>\n",
              "      <td>20</td>\n",
              "      <td>11.70</td>\n",
              "      <td>2</td>\n",
              "      <td>...</td>\n",
              "      <td>0</td>\n",
              "      <td>0</td>\n",
              "      <td>120</td>\n",
              "      <td>70</td>\n",
              "      <td>3</td>\n",
              "      <td>5</td>\n",
              "      <td>15.0</td>\n",
              "      <td>14.0</td>\n",
              "      <td>3.7</td>\n",
              "      <td>0</td>\n",
              "    </tr>\n",
              "    <tr>\n",
              "      <th>2</th>\n",
              "      <td>3</td>\n",
              "      <td>33</td>\n",
              "      <td>68.8</td>\n",
              "      <td>165.000</td>\n",
              "      <td>25.3</td>\n",
              "      <td>11</td>\n",
              "      <td>72</td>\n",
              "      <td>18</td>\n",
              "      <td>11.80</td>\n",
              "      <td>2</td>\n",
              "      <td>...</td>\n",
              "      <td>1</td>\n",
              "      <td>0</td>\n",
              "      <td>120</td>\n",
              "      <td>80</td>\n",
              "      <td>13</td>\n",
              "      <td>15</td>\n",
              "      <td>18.0</td>\n",
              "      <td>20.0</td>\n",
              "      <td>10.0</td>\n",
              "      <td>1</td>\n",
              "    </tr>\n",
              "    <tr>\n",
              "      <th>3</th>\n",
              "      <td>4</td>\n",
              "      <td>37</td>\n",
              "      <td>65.0</td>\n",
              "      <td>148.000</td>\n",
              "      <td>29.7</td>\n",
              "      <td>13</td>\n",
              "      <td>72</td>\n",
              "      <td>20</td>\n",
              "      <td>12.00</td>\n",
              "      <td>2</td>\n",
              "      <td>...</td>\n",
              "      <td>0</td>\n",
              "      <td>0</td>\n",
              "      <td>120</td>\n",
              "      <td>70</td>\n",
              "      <td>2</td>\n",
              "      <td>2</td>\n",
              "      <td>15.0</td>\n",
              "      <td>14.0</td>\n",
              "      <td>7.5</td>\n",
              "      <td>0</td>\n",
              "    </tr>\n",
              "    <tr>\n",
              "      <th>4</th>\n",
              "      <td>5</td>\n",
              "      <td>25</td>\n",
              "      <td>52.0</td>\n",
              "      <td>161.000</td>\n",
              "      <td>20.1</td>\n",
              "      <td>11</td>\n",
              "      <td>72</td>\n",
              "      <td>18</td>\n",
              "      <td>10.00</td>\n",
              "      <td>2</td>\n",
              "      <td>...</td>\n",
              "      <td>0</td>\n",
              "      <td>0</td>\n",
              "      <td>120</td>\n",
              "      <td>80</td>\n",
              "      <td>3</td>\n",
              "      <td>4</td>\n",
              "      <td>16.0</td>\n",
              "      <td>14.0</td>\n",
              "      <td>7.0</td>\n",
              "      <td>0</td>\n",
              "    </tr>\n",
              "    <tr>\n",
              "      <th>...</th>\n",
              "      <td>...</td>\n",
              "      <td>...</td>\n",
              "      <td>...</td>\n",
              "      <td>...</td>\n",
              "      <td>...</td>\n",
              "      <td>...</td>\n",
              "      <td>...</td>\n",
              "      <td>...</td>\n",
              "      <td>...</td>\n",
              "      <td>...</td>\n",
              "      <td>...</td>\n",
              "      <td>...</td>\n",
              "      <td>...</td>\n",
              "      <td>...</td>\n",
              "      <td>...</td>\n",
              "      <td>...</td>\n",
              "      <td>...</td>\n",
              "      <td>...</td>\n",
              "      <td>...</td>\n",
              "      <td>...</td>\n",
              "      <td>...</td>\n",
              "    </tr>\n",
              "    <tr>\n",
              "      <th>536</th>\n",
              "      <td>537</td>\n",
              "      <td>35</td>\n",
              "      <td>50.0</td>\n",
              "      <td>164.592</td>\n",
              "      <td>18.5</td>\n",
              "      <td>17</td>\n",
              "      <td>72</td>\n",
              "      <td>16</td>\n",
              "      <td>11.00</td>\n",
              "      <td>2</td>\n",
              "      <td>...</td>\n",
              "      <td>0</td>\n",
              "      <td>0</td>\n",
              "      <td>110</td>\n",
              "      <td>70</td>\n",
              "      <td>1</td>\n",
              "      <td>0</td>\n",
              "      <td>17.5</td>\n",
              "      <td>10.0</td>\n",
              "      <td>6.7</td>\n",
              "      <td>0</td>\n",
              "    </tr>\n",
              "    <tr>\n",
              "      <th>537</th>\n",
              "      <td>538</td>\n",
              "      <td>30</td>\n",
              "      <td>63.2</td>\n",
              "      <td>158.000</td>\n",
              "      <td>25.3</td>\n",
              "      <td>15</td>\n",
              "      <td>72</td>\n",
              "      <td>18</td>\n",
              "      <td>10.80</td>\n",
              "      <td>2</td>\n",
              "      <td>...</td>\n",
              "      <td>0</td>\n",
              "      <td>0</td>\n",
              "      <td>110</td>\n",
              "      <td>70</td>\n",
              "      <td>9</td>\n",
              "      <td>7</td>\n",
              "      <td>19.0</td>\n",
              "      <td>18.0</td>\n",
              "      <td>8.2</td>\n",
              "      <td>0</td>\n",
              "    </tr>\n",
              "    <tr>\n",
              "      <th>538</th>\n",
              "      <td>539</td>\n",
              "      <td>36</td>\n",
              "      <td>54.0</td>\n",
              "      <td>152.000</td>\n",
              "      <td>23.4</td>\n",
              "      <td>13</td>\n",
              "      <td>74</td>\n",
              "      <td>20</td>\n",
              "      <td>10.80</td>\n",
              "      <td>2</td>\n",
              "      <td>...</td>\n",
              "      <td>0</td>\n",
              "      <td>0</td>\n",
              "      <td>110</td>\n",
              "      <td>80</td>\n",
              "      <td>1</td>\n",
              "      <td>0</td>\n",
              "      <td>18.0</td>\n",
              "      <td>9.0</td>\n",
              "      <td>7.3</td>\n",
              "      <td>0</td>\n",
              "    </tr>\n",
              "    <tr>\n",
              "      <th>539</th>\n",
              "      <td>540</td>\n",
              "      <td>27</td>\n",
              "      <td>50.0</td>\n",
              "      <td>150.000</td>\n",
              "      <td>22.2</td>\n",
              "      <td>15</td>\n",
              "      <td>74</td>\n",
              "      <td>20</td>\n",
              "      <td>12.00</td>\n",
              "      <td>4</td>\n",
              "      <td>...</td>\n",
              "      <td>0</td>\n",
              "      <td>0</td>\n",
              "      <td>110</td>\n",
              "      <td>70</td>\n",
              "      <td>7</td>\n",
              "      <td>6</td>\n",
              "      <td>18.0</td>\n",
              "      <td>16.0</td>\n",
              "      <td>11.5</td>\n",
              "      <td>0</td>\n",
              "    </tr>\n",
              "    <tr>\n",
              "      <th>540</th>\n",
              "      <td>541</td>\n",
              "      <td>23</td>\n",
              "      <td>82.0</td>\n",
              "      <td>165.000</td>\n",
              "      <td>30.1</td>\n",
              "      <td>13</td>\n",
              "      <td>80</td>\n",
              "      <td>20</td>\n",
              "      <td>10.20</td>\n",
              "      <td>4</td>\n",
              "      <td>...</td>\n",
              "      <td>1</td>\n",
              "      <td>0</td>\n",
              "      <td>120</td>\n",
              "      <td>70</td>\n",
              "      <td>9</td>\n",
              "      <td>10</td>\n",
              "      <td>19.0</td>\n",
              "      <td>18.0</td>\n",
              "      <td>6.9</td>\n",
              "      <td>1</td>\n",
              "    </tr>\n",
              "  </tbody>\n",
              "</table>\n",
              "<p>541 rows × 43 columns</p>\n",
              "</div>\n",
              "    <div class=\"colab-df-buttons\">\n",
              "\n",
              "  <div class=\"colab-df-container\">\n",
              "    <button class=\"colab-df-convert\" onclick=\"convertToInteractive('df-0b98ff36-7c2f-4285-bb57-faeedcc8a652')\"\n",
              "            title=\"Convert this dataframe to an interactive table.\"\n",
              "            style=\"display:none;\">\n",
              "\n",
              "  <svg xmlns=\"http://www.w3.org/2000/svg\" height=\"24px\" viewBox=\"0 -960 960 960\">\n",
              "    <path d=\"M120-120v-720h720v720H120Zm60-500h600v-160H180v160Zm220 220h160v-160H400v160Zm0 220h160v-160H400v160ZM180-400h160v-160H180v160Zm440 0h160v-160H620v160ZM180-180h160v-160H180v160Zm440 0h160v-160H620v160Z\"/>\n",
              "  </svg>\n",
              "    </button>\n",
              "\n",
              "  <style>\n",
              "    .colab-df-container {\n",
              "      display:flex;\n",
              "      gap: 12px;\n",
              "    }\n",
              "\n",
              "    .colab-df-convert {\n",
              "      background-color: #E8F0FE;\n",
              "      border: none;\n",
              "      border-radius: 50%;\n",
              "      cursor: pointer;\n",
              "      display: none;\n",
              "      fill: #1967D2;\n",
              "      height: 32px;\n",
              "      padding: 0 0 0 0;\n",
              "      width: 32px;\n",
              "    }\n",
              "\n",
              "    .colab-df-convert:hover {\n",
              "      background-color: #E2EBFA;\n",
              "      box-shadow: 0px 1px 2px rgba(60, 64, 67, 0.3), 0px 1px 3px 1px rgba(60, 64, 67, 0.15);\n",
              "      fill: #174EA6;\n",
              "    }\n",
              "\n",
              "    .colab-df-buttons div {\n",
              "      margin-bottom: 4px;\n",
              "    }\n",
              "\n",
              "    [theme=dark] .colab-df-convert {\n",
              "      background-color: #3B4455;\n",
              "      fill: #D2E3FC;\n",
              "    }\n",
              "\n",
              "    [theme=dark] .colab-df-convert:hover {\n",
              "      background-color: #434B5C;\n",
              "      box-shadow: 0px 1px 3px 1px rgba(0, 0, 0, 0.15);\n",
              "      filter: drop-shadow(0px 1px 2px rgba(0, 0, 0, 0.3));\n",
              "      fill: #FFFFFF;\n",
              "    }\n",
              "  </style>\n",
              "\n",
              "    <script>\n",
              "      const buttonEl =\n",
              "        document.querySelector('#df-0b98ff36-7c2f-4285-bb57-faeedcc8a652 button.colab-df-convert');\n",
              "      buttonEl.style.display =\n",
              "        google.colab.kernel.accessAllowed ? 'block' : 'none';\n",
              "\n",
              "      async function convertToInteractive(key) {\n",
              "        const element = document.querySelector('#df-0b98ff36-7c2f-4285-bb57-faeedcc8a652');\n",
              "        const dataTable =\n",
              "          await google.colab.kernel.invokeFunction('convertToInteractive',\n",
              "                                                    [key], {});\n",
              "        if (!dataTable) return;\n",
              "\n",
              "        const docLinkHtml = 'Like what you see? Visit the ' +\n",
              "          '<a target=\"_blank\" href=https://colab.research.google.com/notebooks/data_table.ipynb>data table notebook</a>'\n",
              "          + ' to learn more about interactive tables.';\n",
              "        element.innerHTML = '';\n",
              "        dataTable['output_type'] = 'display_data';\n",
              "        await google.colab.output.renderOutput(dataTable, element);\n",
              "        const docLink = document.createElement('div');\n",
              "        docLink.innerHTML = docLinkHtml;\n",
              "        element.appendChild(docLink);\n",
              "      }\n",
              "    </script>\n",
              "  </div>\n",
              "\n",
              "\n",
              "<div id=\"df-c942e2c0-f751-4942-a972-b289fceb7988\">\n",
              "  <button class=\"colab-df-quickchart\" onclick=\"quickchart('df-c942e2c0-f751-4942-a972-b289fceb7988')\"\n",
              "            title=\"Suggest charts\"\n",
              "            style=\"display:none;\">\n",
              "\n",
              "<svg xmlns=\"http://www.w3.org/2000/svg\" height=\"24px\"viewBox=\"0 0 24 24\"\n",
              "     width=\"24px\">\n",
              "    <g>\n",
              "        <path d=\"M19 3H5c-1.1 0-2 .9-2 2v14c0 1.1.9 2 2 2h14c1.1 0 2-.9 2-2V5c0-1.1-.9-2-2-2zM9 17H7v-7h2v7zm4 0h-2V7h2v10zm4 0h-2v-4h2v4z\"/>\n",
              "    </g>\n",
              "</svg>\n",
              "  </button>\n",
              "\n",
              "<style>\n",
              "  .colab-df-quickchart {\n",
              "      --bg-color: #E8F0FE;\n",
              "      --fill-color: #1967D2;\n",
              "      --hover-bg-color: #E2EBFA;\n",
              "      --hover-fill-color: #174EA6;\n",
              "      --disabled-fill-color: #AAA;\n",
              "      --disabled-bg-color: #DDD;\n",
              "  }\n",
              "\n",
              "  [theme=dark] .colab-df-quickchart {\n",
              "      --bg-color: #3B4455;\n",
              "      --fill-color: #D2E3FC;\n",
              "      --hover-bg-color: #434B5C;\n",
              "      --hover-fill-color: #FFFFFF;\n",
              "      --disabled-bg-color: #3B4455;\n",
              "      --disabled-fill-color: #666;\n",
              "  }\n",
              "\n",
              "  .colab-df-quickchart {\n",
              "    background-color: var(--bg-color);\n",
              "    border: none;\n",
              "    border-radius: 50%;\n",
              "    cursor: pointer;\n",
              "    display: none;\n",
              "    fill: var(--fill-color);\n",
              "    height: 32px;\n",
              "    padding: 0;\n",
              "    width: 32px;\n",
              "  }\n",
              "\n",
              "  .colab-df-quickchart:hover {\n",
              "    background-color: var(--hover-bg-color);\n",
              "    box-shadow: 0 1px 2px rgba(60, 64, 67, 0.3), 0 1px 3px 1px rgba(60, 64, 67, 0.15);\n",
              "    fill: var(--button-hover-fill-color);\n",
              "  }\n",
              "\n",
              "  .colab-df-quickchart-complete:disabled,\n",
              "  .colab-df-quickchart-complete:disabled:hover {\n",
              "    background-color: var(--disabled-bg-color);\n",
              "    fill: var(--disabled-fill-color);\n",
              "    box-shadow: none;\n",
              "  }\n",
              "\n",
              "  .colab-df-spinner {\n",
              "    border: 2px solid var(--fill-color);\n",
              "    border-color: transparent;\n",
              "    border-bottom-color: var(--fill-color);\n",
              "    animation:\n",
              "      spin 1s steps(1) infinite;\n",
              "  }\n",
              "\n",
              "  @keyframes spin {\n",
              "    0% {\n",
              "      border-color: transparent;\n",
              "      border-bottom-color: var(--fill-color);\n",
              "      border-left-color: var(--fill-color);\n",
              "    }\n",
              "    20% {\n",
              "      border-color: transparent;\n",
              "      border-left-color: var(--fill-color);\n",
              "      border-top-color: var(--fill-color);\n",
              "    }\n",
              "    30% {\n",
              "      border-color: transparent;\n",
              "      border-left-color: var(--fill-color);\n",
              "      border-top-color: var(--fill-color);\n",
              "      border-right-color: var(--fill-color);\n",
              "    }\n",
              "    40% {\n",
              "      border-color: transparent;\n",
              "      border-right-color: var(--fill-color);\n",
              "      border-top-color: var(--fill-color);\n",
              "    }\n",
              "    60% {\n",
              "      border-color: transparent;\n",
              "      border-right-color: var(--fill-color);\n",
              "    }\n",
              "    80% {\n",
              "      border-color: transparent;\n",
              "      border-right-color: var(--fill-color);\n",
              "      border-bottom-color: var(--fill-color);\n",
              "    }\n",
              "    90% {\n",
              "      border-color: transparent;\n",
              "      border-bottom-color: var(--fill-color);\n",
              "    }\n",
              "  }\n",
              "</style>\n",
              "\n",
              "  <script>\n",
              "    async function quickchart(key) {\n",
              "      const quickchartButtonEl =\n",
              "        document.querySelector('#' + key + ' button');\n",
              "      quickchartButtonEl.disabled = true;  // To prevent multiple clicks.\n",
              "      quickchartButtonEl.classList.add('colab-df-spinner');\n",
              "      try {\n",
              "        const charts = await google.colab.kernel.invokeFunction(\n",
              "            'suggestCharts', [key], {});\n",
              "      } catch (error) {\n",
              "        console.error('Error during call to suggestCharts:', error);\n",
              "      }\n",
              "      quickchartButtonEl.classList.remove('colab-df-spinner');\n",
              "      quickchartButtonEl.classList.add('colab-df-quickchart-complete');\n",
              "    }\n",
              "    (() => {\n",
              "      let quickchartButtonEl =\n",
              "        document.querySelector('#df-c942e2c0-f751-4942-a972-b289fceb7988 button');\n",
              "      quickchartButtonEl.style.display =\n",
              "        google.colab.kernel.accessAllowed ? 'block' : 'none';\n",
              "    })();\n",
              "  </script>\n",
              "</div>\n",
              "    </div>\n",
              "  </div>\n"
            ]
          },
          "metadata": {},
          "execution_count": 5
        }
      ]
    },
    {
      "cell_type": "markdown",
      "source": [
        "# **Attributes Targets**"
      ],
      "metadata": {
        "id": "4ktoUGQJc5aP"
      }
    },
    {
      "cell_type": "code",
      "source": [
        "x = df.iloc[:, 1:-1]\n",
        "y = df.iloc[:,42]\n",
        "x\n"
      ],
      "metadata": {
        "colab": {
          "base_uri": "https://localhost:8080/"
        },
        "id": "Y7MDYjNEc2po",
        "outputId": "bff7db78-84eb-471a-a91f-372f270f1ef4"
      },
      "execution_count": null,
      "outputs": [
        {
          "output_type": "execute_result",
          "data": {
            "text/plain": [
              "      Age (yrs)  Weight (Kg)  Height(Cm)    BMI  Blood Group  \\\n",
              "0            28         44.6      152.000  19.3           15   \n",
              "1            36         65.0      161.500  24.9           15   \n",
              "2            33         68.8      165.000  25.3           11   \n",
              "3            37         65.0      148.000  29.7           13   \n",
              "4            25         52.0      161.000  20.1           11   \n",
              "..          ...          ...          ...   ...          ...   \n",
              "536          35         50.0      164.592  18.5           17   \n",
              "537          30         63.2      158.000  25.3           15   \n",
              "538          36         54.0      152.000  23.4           13   \n",
              "539          27         50.0      150.000  22.2           15   \n",
              "540          23         82.0      165.000  30.1           13   \n",
              "\n",
              "     Pulse rate(bpm)   RR (breaths/min)  Hb(g/dl)  Cycle(R/I)  \\\n",
              "0                  78                22     10.48           2   \n",
              "1                  74                20     11.70           2   \n",
              "2                  72                18     11.80           2   \n",
              "3                  72                20     12.00           2   \n",
              "4                  72                18     10.00           2   \n",
              "..                ...               ...       ...         ...   \n",
              "536                72                16     11.00           2   \n",
              "537                72                18     10.80           2   \n",
              "538                74                20     10.80           2   \n",
              "539                74                20     12.00           4   \n",
              "540                80                20     10.20           4   \n",
              "\n",
              "     Cycle length(days)  ...  Pimples(Y/N)  Fast food (Y/N)  \\\n",
              "0                     5  ...             0                1   \n",
              "1                     5  ...             0                0   \n",
              "2                     5  ...             1                1   \n",
              "3                     5  ...             0                0   \n",
              "4                     5  ...             0                0   \n",
              "..                  ...  ...           ...              ...   \n",
              "536                   5  ...             0                0   \n",
              "537                   5  ...             0                0   \n",
              "538                   6  ...             0                0   \n",
              "539                   2  ...             1                0   \n",
              "540                   7  ...             1                1   \n",
              "\n",
              "     Reg.Exercise(Y/N)  BP _Systolic (mmHg)  BP _Diastolic (mmHg)  \\\n",
              "0                    0                  110                    80   \n",
              "1                    0                  120                    70   \n",
              "2                    0                  120                    80   \n",
              "3                    0                  120                    70   \n",
              "4                    0                  120                    80   \n",
              "..                 ...                  ...                   ...   \n",
              "536                  0                  110                    70   \n",
              "537                  0                  110                    70   \n",
              "538                  0                  110                    80   \n",
              "539                  0                  110                    70   \n",
              "540                  0                  120                    70   \n",
              "\n",
              "     Follicle No. (L)  Follicle No. (R)  Avg. F size (L) (mm)  \\\n",
              "0                   3                 3                  18.0   \n",
              "1                   3                 5                  15.0   \n",
              "2                  13                15                  18.0   \n",
              "3                   2                 2                  15.0   \n",
              "4                   3                 4                  16.0   \n",
              "..                ...               ...                   ...   \n",
              "536                 1                 0                  17.5   \n",
              "537                 9                 7                  19.0   \n",
              "538                 1                 0                  18.0   \n",
              "539                 7                 6                  18.0   \n",
              "540                 9                10                  19.0   \n",
              "\n",
              "     Avg. F size (R) (mm)  Endometrium (mm)  \n",
              "0                    18.0               8.5  \n",
              "1                    14.0               3.7  \n",
              "2                    20.0              10.0  \n",
              "3                    14.0               7.5  \n",
              "4                    14.0               7.0  \n",
              "..                    ...               ...  \n",
              "536                  10.0               6.7  \n",
              "537                  18.0               8.2  \n",
              "538                   9.0               7.3  \n",
              "539                  16.0              11.5  \n",
              "540                  18.0               6.9  \n",
              "\n",
              "[541 rows x 41 columns]"
            ],
            "text/html": [
              "\n",
              "  <div id=\"df-97f92d85-03c6-4f22-9ce4-230b61d5f982\" class=\"colab-df-container\">\n",
              "    <div>\n",
              "<style scoped>\n",
              "    .dataframe tbody tr th:only-of-type {\n",
              "        vertical-align: middle;\n",
              "    }\n",
              "\n",
              "    .dataframe tbody tr th {\n",
              "        vertical-align: top;\n",
              "    }\n",
              "\n",
              "    .dataframe thead th {\n",
              "        text-align: right;\n",
              "    }\n",
              "</style>\n",
              "<table border=\"1\" class=\"dataframe\">\n",
              "  <thead>\n",
              "    <tr style=\"text-align: right;\">\n",
              "      <th></th>\n",
              "      <th>Age (yrs)</th>\n",
              "      <th>Weight (Kg)</th>\n",
              "      <th>Height(Cm)</th>\n",
              "      <th>BMI</th>\n",
              "      <th>Blood Group</th>\n",
              "      <th>Pulse rate(bpm)</th>\n",
              "      <th>RR (breaths/min)</th>\n",
              "      <th>Hb(g/dl)</th>\n",
              "      <th>Cycle(R/I)</th>\n",
              "      <th>Cycle length(days)</th>\n",
              "      <th>...</th>\n",
              "      <th>Pimples(Y/N)</th>\n",
              "      <th>Fast food (Y/N)</th>\n",
              "      <th>Reg.Exercise(Y/N)</th>\n",
              "      <th>BP _Systolic (mmHg)</th>\n",
              "      <th>BP _Diastolic (mmHg)</th>\n",
              "      <th>Follicle No. (L)</th>\n",
              "      <th>Follicle No. (R)</th>\n",
              "      <th>Avg. F size (L) (mm)</th>\n",
              "      <th>Avg. F size (R) (mm)</th>\n",
              "      <th>Endometrium (mm)</th>\n",
              "    </tr>\n",
              "  </thead>\n",
              "  <tbody>\n",
              "    <tr>\n",
              "      <th>0</th>\n",
              "      <td>28</td>\n",
              "      <td>44.6</td>\n",
              "      <td>152.000</td>\n",
              "      <td>19.3</td>\n",
              "      <td>15</td>\n",
              "      <td>78</td>\n",
              "      <td>22</td>\n",
              "      <td>10.48</td>\n",
              "      <td>2</td>\n",
              "      <td>5</td>\n",
              "      <td>...</td>\n",
              "      <td>0</td>\n",
              "      <td>1</td>\n",
              "      <td>0</td>\n",
              "      <td>110</td>\n",
              "      <td>80</td>\n",
              "      <td>3</td>\n",
              "      <td>3</td>\n",
              "      <td>18.0</td>\n",
              "      <td>18.0</td>\n",
              "      <td>8.5</td>\n",
              "    </tr>\n",
              "    <tr>\n",
              "      <th>1</th>\n",
              "      <td>36</td>\n",
              "      <td>65.0</td>\n",
              "      <td>161.500</td>\n",
              "      <td>24.9</td>\n",
              "      <td>15</td>\n",
              "      <td>74</td>\n",
              "      <td>20</td>\n",
              "      <td>11.70</td>\n",
              "      <td>2</td>\n",
              "      <td>5</td>\n",
              "      <td>...</td>\n",
              "      <td>0</td>\n",
              "      <td>0</td>\n",
              "      <td>0</td>\n",
              "      <td>120</td>\n",
              "      <td>70</td>\n",
              "      <td>3</td>\n",
              "      <td>5</td>\n",
              "      <td>15.0</td>\n",
              "      <td>14.0</td>\n",
              "      <td>3.7</td>\n",
              "    </tr>\n",
              "    <tr>\n",
              "      <th>2</th>\n",
              "      <td>33</td>\n",
              "      <td>68.8</td>\n",
              "      <td>165.000</td>\n",
              "      <td>25.3</td>\n",
              "      <td>11</td>\n",
              "      <td>72</td>\n",
              "      <td>18</td>\n",
              "      <td>11.80</td>\n",
              "      <td>2</td>\n",
              "      <td>5</td>\n",
              "      <td>...</td>\n",
              "      <td>1</td>\n",
              "      <td>1</td>\n",
              "      <td>0</td>\n",
              "      <td>120</td>\n",
              "      <td>80</td>\n",
              "      <td>13</td>\n",
              "      <td>15</td>\n",
              "      <td>18.0</td>\n",
              "      <td>20.0</td>\n",
              "      <td>10.0</td>\n",
              "    </tr>\n",
              "    <tr>\n",
              "      <th>3</th>\n",
              "      <td>37</td>\n",
              "      <td>65.0</td>\n",
              "      <td>148.000</td>\n",
              "      <td>29.7</td>\n",
              "      <td>13</td>\n",
              "      <td>72</td>\n",
              "      <td>20</td>\n",
              "      <td>12.00</td>\n",
              "      <td>2</td>\n",
              "      <td>5</td>\n",
              "      <td>...</td>\n",
              "      <td>0</td>\n",
              "      <td>0</td>\n",
              "      <td>0</td>\n",
              "      <td>120</td>\n",
              "      <td>70</td>\n",
              "      <td>2</td>\n",
              "      <td>2</td>\n",
              "      <td>15.0</td>\n",
              "      <td>14.0</td>\n",
              "      <td>7.5</td>\n",
              "    </tr>\n",
              "    <tr>\n",
              "      <th>4</th>\n",
              "      <td>25</td>\n",
              "      <td>52.0</td>\n",
              "      <td>161.000</td>\n",
              "      <td>20.1</td>\n",
              "      <td>11</td>\n",
              "      <td>72</td>\n",
              "      <td>18</td>\n",
              "      <td>10.00</td>\n",
              "      <td>2</td>\n",
              "      <td>5</td>\n",
              "      <td>...</td>\n",
              "      <td>0</td>\n",
              "      <td>0</td>\n",
              "      <td>0</td>\n",
              "      <td>120</td>\n",
              "      <td>80</td>\n",
              "      <td>3</td>\n",
              "      <td>4</td>\n",
              "      <td>16.0</td>\n",
              "      <td>14.0</td>\n",
              "      <td>7.0</td>\n",
              "    </tr>\n",
              "    <tr>\n",
              "      <th>...</th>\n",
              "      <td>...</td>\n",
              "      <td>...</td>\n",
              "      <td>...</td>\n",
              "      <td>...</td>\n",
              "      <td>...</td>\n",
              "      <td>...</td>\n",
              "      <td>...</td>\n",
              "      <td>...</td>\n",
              "      <td>...</td>\n",
              "      <td>...</td>\n",
              "      <td>...</td>\n",
              "      <td>...</td>\n",
              "      <td>...</td>\n",
              "      <td>...</td>\n",
              "      <td>...</td>\n",
              "      <td>...</td>\n",
              "      <td>...</td>\n",
              "      <td>...</td>\n",
              "      <td>...</td>\n",
              "      <td>...</td>\n",
              "      <td>...</td>\n",
              "    </tr>\n",
              "    <tr>\n",
              "      <th>536</th>\n",
              "      <td>35</td>\n",
              "      <td>50.0</td>\n",
              "      <td>164.592</td>\n",
              "      <td>18.5</td>\n",
              "      <td>17</td>\n",
              "      <td>72</td>\n",
              "      <td>16</td>\n",
              "      <td>11.00</td>\n",
              "      <td>2</td>\n",
              "      <td>5</td>\n",
              "      <td>...</td>\n",
              "      <td>0</td>\n",
              "      <td>0</td>\n",
              "      <td>0</td>\n",
              "      <td>110</td>\n",
              "      <td>70</td>\n",
              "      <td>1</td>\n",
              "      <td>0</td>\n",
              "      <td>17.5</td>\n",
              "      <td>10.0</td>\n",
              "      <td>6.7</td>\n",
              "    </tr>\n",
              "    <tr>\n",
              "      <th>537</th>\n",
              "      <td>30</td>\n",
              "      <td>63.2</td>\n",
              "      <td>158.000</td>\n",
              "      <td>25.3</td>\n",
              "      <td>15</td>\n",
              "      <td>72</td>\n",
              "      <td>18</td>\n",
              "      <td>10.80</td>\n",
              "      <td>2</td>\n",
              "      <td>5</td>\n",
              "      <td>...</td>\n",
              "      <td>0</td>\n",
              "      <td>0</td>\n",
              "      <td>0</td>\n",
              "      <td>110</td>\n",
              "      <td>70</td>\n",
              "      <td>9</td>\n",
              "      <td>7</td>\n",
              "      <td>19.0</td>\n",
              "      <td>18.0</td>\n",
              "      <td>8.2</td>\n",
              "    </tr>\n",
              "    <tr>\n",
              "      <th>538</th>\n",
              "      <td>36</td>\n",
              "      <td>54.0</td>\n",
              "      <td>152.000</td>\n",
              "      <td>23.4</td>\n",
              "      <td>13</td>\n",
              "      <td>74</td>\n",
              "      <td>20</td>\n",
              "      <td>10.80</td>\n",
              "      <td>2</td>\n",
              "      <td>6</td>\n",
              "      <td>...</td>\n",
              "      <td>0</td>\n",
              "      <td>0</td>\n",
              "      <td>0</td>\n",
              "      <td>110</td>\n",
              "      <td>80</td>\n",
              "      <td>1</td>\n",
              "      <td>0</td>\n",
              "      <td>18.0</td>\n",
              "      <td>9.0</td>\n",
              "      <td>7.3</td>\n",
              "    </tr>\n",
              "    <tr>\n",
              "      <th>539</th>\n",
              "      <td>27</td>\n",
              "      <td>50.0</td>\n",
              "      <td>150.000</td>\n",
              "      <td>22.2</td>\n",
              "      <td>15</td>\n",
              "      <td>74</td>\n",
              "      <td>20</td>\n",
              "      <td>12.00</td>\n",
              "      <td>4</td>\n",
              "      <td>2</td>\n",
              "      <td>...</td>\n",
              "      <td>1</td>\n",
              "      <td>0</td>\n",
              "      <td>0</td>\n",
              "      <td>110</td>\n",
              "      <td>70</td>\n",
              "      <td>7</td>\n",
              "      <td>6</td>\n",
              "      <td>18.0</td>\n",
              "      <td>16.0</td>\n",
              "      <td>11.5</td>\n",
              "    </tr>\n",
              "    <tr>\n",
              "      <th>540</th>\n",
              "      <td>23</td>\n",
              "      <td>82.0</td>\n",
              "      <td>165.000</td>\n",
              "      <td>30.1</td>\n",
              "      <td>13</td>\n",
              "      <td>80</td>\n",
              "      <td>20</td>\n",
              "      <td>10.20</td>\n",
              "      <td>4</td>\n",
              "      <td>7</td>\n",
              "      <td>...</td>\n",
              "      <td>1</td>\n",
              "      <td>1</td>\n",
              "      <td>0</td>\n",
              "      <td>120</td>\n",
              "      <td>70</td>\n",
              "      <td>9</td>\n",
              "      <td>10</td>\n",
              "      <td>19.0</td>\n",
              "      <td>18.0</td>\n",
              "      <td>6.9</td>\n",
              "    </tr>\n",
              "  </tbody>\n",
              "</table>\n",
              "<p>541 rows × 41 columns</p>\n",
              "</div>\n",
              "    <div class=\"colab-df-buttons\">\n",
              "\n",
              "  <div class=\"colab-df-container\">\n",
              "    <button class=\"colab-df-convert\" onclick=\"convertToInteractive('df-97f92d85-03c6-4f22-9ce4-230b61d5f982')\"\n",
              "            title=\"Convert this dataframe to an interactive table.\"\n",
              "            style=\"display:none;\">\n",
              "\n",
              "  <svg xmlns=\"http://www.w3.org/2000/svg\" height=\"24px\" viewBox=\"0 -960 960 960\">\n",
              "    <path d=\"M120-120v-720h720v720H120Zm60-500h600v-160H180v160Zm220 220h160v-160H400v160Zm0 220h160v-160H400v160ZM180-400h160v-160H180v160Zm440 0h160v-160H620v160ZM180-180h160v-160H180v160Zm440 0h160v-160H620v160Z\"/>\n",
              "  </svg>\n",
              "    </button>\n",
              "\n",
              "  <style>\n",
              "    .colab-df-container {\n",
              "      display:flex;\n",
              "      gap: 12px;\n",
              "    }\n",
              "\n",
              "    .colab-df-convert {\n",
              "      background-color: #E8F0FE;\n",
              "      border: none;\n",
              "      border-radius: 50%;\n",
              "      cursor: pointer;\n",
              "      display: none;\n",
              "      fill: #1967D2;\n",
              "      height: 32px;\n",
              "      padding: 0 0 0 0;\n",
              "      width: 32px;\n",
              "    }\n",
              "\n",
              "    .colab-df-convert:hover {\n",
              "      background-color: #E2EBFA;\n",
              "      box-shadow: 0px 1px 2px rgba(60, 64, 67, 0.3), 0px 1px 3px 1px rgba(60, 64, 67, 0.15);\n",
              "      fill: #174EA6;\n",
              "    }\n",
              "\n",
              "    .colab-df-buttons div {\n",
              "      margin-bottom: 4px;\n",
              "    }\n",
              "\n",
              "    [theme=dark] .colab-df-convert {\n",
              "      background-color: #3B4455;\n",
              "      fill: #D2E3FC;\n",
              "    }\n",
              "\n",
              "    [theme=dark] .colab-df-convert:hover {\n",
              "      background-color: #434B5C;\n",
              "      box-shadow: 0px 1px 3px 1px rgba(0, 0, 0, 0.15);\n",
              "      filter: drop-shadow(0px 1px 2px rgba(0, 0, 0, 0.3));\n",
              "      fill: #FFFFFF;\n",
              "    }\n",
              "  </style>\n",
              "\n",
              "    <script>\n",
              "      const buttonEl =\n",
              "        document.querySelector('#df-97f92d85-03c6-4f22-9ce4-230b61d5f982 button.colab-df-convert');\n",
              "      buttonEl.style.display =\n",
              "        google.colab.kernel.accessAllowed ? 'block' : 'none';\n",
              "\n",
              "      async function convertToInteractive(key) {\n",
              "        const element = document.querySelector('#df-97f92d85-03c6-4f22-9ce4-230b61d5f982');\n",
              "        const dataTable =\n",
              "          await google.colab.kernel.invokeFunction('convertToInteractive',\n",
              "                                                    [key], {});\n",
              "        if (!dataTable) return;\n",
              "\n",
              "        const docLinkHtml = 'Like what you see? Visit the ' +\n",
              "          '<a target=\"_blank\" href=https://colab.research.google.com/notebooks/data_table.ipynb>data table notebook</a>'\n",
              "          + ' to learn more about interactive tables.';\n",
              "        element.innerHTML = '';\n",
              "        dataTable['output_type'] = 'display_data';\n",
              "        await google.colab.output.renderOutput(dataTable, element);\n",
              "        const docLink = document.createElement('div');\n",
              "        docLink.innerHTML = docLinkHtml;\n",
              "        element.appendChild(docLink);\n",
              "      }\n",
              "    </script>\n",
              "  </div>\n",
              "\n",
              "\n",
              "<div id=\"df-dd4a32c9-1b73-4119-9609-d9089fb1e3dd\">\n",
              "  <button class=\"colab-df-quickchart\" onclick=\"quickchart('df-dd4a32c9-1b73-4119-9609-d9089fb1e3dd')\"\n",
              "            title=\"Suggest charts\"\n",
              "            style=\"display:none;\">\n",
              "\n",
              "<svg xmlns=\"http://www.w3.org/2000/svg\" height=\"24px\"viewBox=\"0 0 24 24\"\n",
              "     width=\"24px\">\n",
              "    <g>\n",
              "        <path d=\"M19 3H5c-1.1 0-2 .9-2 2v14c0 1.1.9 2 2 2h14c1.1 0 2-.9 2-2V5c0-1.1-.9-2-2-2zM9 17H7v-7h2v7zm4 0h-2V7h2v10zm4 0h-2v-4h2v4z\"/>\n",
              "    </g>\n",
              "</svg>\n",
              "  </button>\n",
              "\n",
              "<style>\n",
              "  .colab-df-quickchart {\n",
              "      --bg-color: #E8F0FE;\n",
              "      --fill-color: #1967D2;\n",
              "      --hover-bg-color: #E2EBFA;\n",
              "      --hover-fill-color: #174EA6;\n",
              "      --disabled-fill-color: #AAA;\n",
              "      --disabled-bg-color: #DDD;\n",
              "  }\n",
              "\n",
              "  [theme=dark] .colab-df-quickchart {\n",
              "      --bg-color: #3B4455;\n",
              "      --fill-color: #D2E3FC;\n",
              "      --hover-bg-color: #434B5C;\n",
              "      --hover-fill-color: #FFFFFF;\n",
              "      --disabled-bg-color: #3B4455;\n",
              "      --disabled-fill-color: #666;\n",
              "  }\n",
              "\n",
              "  .colab-df-quickchart {\n",
              "    background-color: var(--bg-color);\n",
              "    border: none;\n",
              "    border-radius: 50%;\n",
              "    cursor: pointer;\n",
              "    display: none;\n",
              "    fill: var(--fill-color);\n",
              "    height: 32px;\n",
              "    padding: 0;\n",
              "    width: 32px;\n",
              "  }\n",
              "\n",
              "  .colab-df-quickchart:hover {\n",
              "    background-color: var(--hover-bg-color);\n",
              "    box-shadow: 0 1px 2px rgba(60, 64, 67, 0.3), 0 1px 3px 1px rgba(60, 64, 67, 0.15);\n",
              "    fill: var(--button-hover-fill-color);\n",
              "  }\n",
              "\n",
              "  .colab-df-quickchart-complete:disabled,\n",
              "  .colab-df-quickchart-complete:disabled:hover {\n",
              "    background-color: var(--disabled-bg-color);\n",
              "    fill: var(--disabled-fill-color);\n",
              "    box-shadow: none;\n",
              "  }\n",
              "\n",
              "  .colab-df-spinner {\n",
              "    border: 2px solid var(--fill-color);\n",
              "    border-color: transparent;\n",
              "    border-bottom-color: var(--fill-color);\n",
              "    animation:\n",
              "      spin 1s steps(1) infinite;\n",
              "  }\n",
              "\n",
              "  @keyframes spin {\n",
              "    0% {\n",
              "      border-color: transparent;\n",
              "      border-bottom-color: var(--fill-color);\n",
              "      border-left-color: var(--fill-color);\n",
              "    }\n",
              "    20% {\n",
              "      border-color: transparent;\n",
              "      border-left-color: var(--fill-color);\n",
              "      border-top-color: var(--fill-color);\n",
              "    }\n",
              "    30% {\n",
              "      border-color: transparent;\n",
              "      border-left-color: var(--fill-color);\n",
              "      border-top-color: var(--fill-color);\n",
              "      border-right-color: var(--fill-color);\n",
              "    }\n",
              "    40% {\n",
              "      border-color: transparent;\n",
              "      border-right-color: var(--fill-color);\n",
              "      border-top-color: var(--fill-color);\n",
              "    }\n",
              "    60% {\n",
              "      border-color: transparent;\n",
              "      border-right-color: var(--fill-color);\n",
              "    }\n",
              "    80% {\n",
              "      border-color: transparent;\n",
              "      border-right-color: var(--fill-color);\n",
              "      border-bottom-color: var(--fill-color);\n",
              "    }\n",
              "    90% {\n",
              "      border-color: transparent;\n",
              "      border-bottom-color: var(--fill-color);\n",
              "    }\n",
              "  }\n",
              "</style>\n",
              "\n",
              "  <script>\n",
              "    async function quickchart(key) {\n",
              "      const quickchartButtonEl =\n",
              "        document.querySelector('#' + key + ' button');\n",
              "      quickchartButtonEl.disabled = true;  // To prevent multiple clicks.\n",
              "      quickchartButtonEl.classList.add('colab-df-spinner');\n",
              "      try {\n",
              "        const charts = await google.colab.kernel.invokeFunction(\n",
              "            'suggestCharts', [key], {});\n",
              "      } catch (error) {\n",
              "        console.error('Error during call to suggestCharts:', error);\n",
              "      }\n",
              "      quickchartButtonEl.classList.remove('colab-df-spinner');\n",
              "      quickchartButtonEl.classList.add('colab-df-quickchart-complete');\n",
              "    }\n",
              "    (() => {\n",
              "      let quickchartButtonEl =\n",
              "        document.querySelector('#df-dd4a32c9-1b73-4119-9609-d9089fb1e3dd button');\n",
              "      quickchartButtonEl.style.display =\n",
              "        google.colab.kernel.accessAllowed ? 'block' : 'none';\n",
              "    })();\n",
              "  </script>\n",
              "</div>\n",
              "    </div>\n",
              "  </div>\n"
            ]
          },
          "metadata": {},
          "execution_count": 6
        }
      ]
    },
    {
      "cell_type": "markdown",
      "source": [
        "# **Feature Extract**\n"
      ],
      "metadata": {
        "id": "6PW92Ev4fIf0"
      }
    },
    {
      "cell_type": "code",
      "source": [
        "chi_scores = chi2(x,y)\n",
        "chi_scores"
      ],
      "metadata": {
        "colab": {
          "base_uri": "https://localhost:8080/"
        },
        "id": "QXQpNcLPedbX",
        "outputId": "e94be8d5-3d40-4480-9a69-daf5a8e1bf1f"
      },
      "execution_count": null,
      "outputs": [
        {
          "output_type": "execute_result",
          "data": {
            "text/plain": [
              "(array([1.42843703e+01, 4.94664230e+01, 5.85219154e-01, 1.45682266e+01,\n",
              "        1.75974306e-01, 1.21995170e+00, 1.09112104e-01, 2.76315136e-01,\n",
              "        2.76814193e+01, 7.75034152e+00, 2.05615616e+01, 2.54535958e-01,\n",
              "        2.93467733e+00, 6.95052563e+03, 9.49362075e+02, 1.60114551e+03,\n",
              "        2.55847116e+03, 9.68316820e+01, 5.89443395e+00, 5.59310783e+00,\n",
              "        1.90133579e-04, 2.62651507e-01, 2.32516618e+02, 1.31617605e-01,\n",
              "        9.47764895e+03, 2.46380202e+01, 4.45908899e+00, 6.55541472e+01,\n",
              "        8.48546235e+01, 8.48707162e+01, 8.84654593e+00, 2.25878028e+01,\n",
              "        3.77218833e+01, 1.73746292e+00, 1.61983069e-02, 3.15465896e-01,\n",
              "        5.73647927e+02, 6.72789402e+02, 8.09083004e+00, 3.67359041e+00,\n",
              "        3.39768722e+00]),\n",
              " array([1.57164462e-004, 2.01796129e-012, 4.44273820e-001, 1.35174706e-004,\n",
              "        6.74855932e-001, 2.69370131e-001, 7.41157265e-001, 5.99126642e-001,\n",
              "        1.43029952e-007, 5.37023848e-003, 5.77439835e-006, 6.13899125e-001,\n",
              "        8.66959844e-002, 0.00000000e+000, 1.82562975e-208, 0.00000000e+000,\n",
              "        0.00000000e+000, 7.54786285e-023, 1.51888106e-002, 1.80312769e-002,\n",
              "        9.88998404e-001, 6.08304358e-001, 1.68470087e-052, 7.16760712e-001,\n",
              "        0.00000000e+000, 6.91734269e-007, 3.47160077e-002, 5.65390201e-016,\n",
              "        3.21128998e-020, 3.18525912e-020, 2.93644072e-003, 2.00755099e-006,\n",
              "        8.15841849e-010, 1.87460613e-001, 8.98724670e-001, 5.74345302e-001,\n",
              "        9.03231031e-127, 2.47169589e-148, 4.44897820e-003, 5.52809793e-002,\n",
              "        6.52878999e-002]))"
            ]
          },
          "metadata": {},
          "execution_count": 7
        }
      ]
    },
    {
      "cell_type": "code",
      "source": [
        "#p 0, high importance\n",
        "chi_values = pd.Series(chi_scores[0],index=x.columns)\n",
        "chi_values.sort_values(ascending=False,inplace=True)\n",
        "chi_values.plot.bar()"
      ],
      "metadata": {
        "colab": {
          "base_uri": "https://localhost:8080/",
          "height": 590
        },
        "id": "Z8hW5FSMfMne",
        "outputId": "559ffbd0-a2f2-4fae-c47d-8c61c08f545a"
      },
      "execution_count": null,
      "outputs": [
        {
          "output_type": "execute_result",
          "data": {
            "text/plain": [
              "<Axes: >"
            ]
          },
          "metadata": {},
          "execution_count": 8
        },
        {
          "output_type": "display_data",
          "data": {
            "text/plain": [
              "<Figure size 640x480 with 1 Axes>"
            ],
            "image/png": "[encoded data removed]"
          },
          "metadata": {}
        }
      ]
    },
    {
      "cell_type": "code",
      "source": [
        "chi_values"
      ],
      "metadata": {
        "colab": {
          "base_uri": "https://localhost:8080/"
        },
        "id": "0C4pC4ecfzXZ",
        "outputId": "ca314968-f648-43eb-9e87-9091fc48441a"
      },
      "execution_count": null,
      "outputs": [
        {
          "output_type": "execute_result",
          "data": {
            "text/plain": [
              "Vit D3 (ng/mL)            9477.648952\n",
              "  I   beta-HCG(mIU/mL)    6950.525631\n",
              "LH(mIU/mL)                2558.471157\n",
              "FSH(mIU/mL)               1601.145511\n",
              "II    beta-HCG(mIU/mL)     949.362075\n",
              "Follicle No. (R)           672.789402\n",
              "Follicle No. (L)           573.647927\n",
              "AMH(ng/mL)                 232.516618\n",
              "FSH/LH                      96.831682\n",
              "Skin darkening (Y/N)        84.870716\n",
              "hair growth(Y/N)            84.854623\n",
              "Weight gain(Y/N)            65.554147\n",
              "Weight (Kg)                 49.466423\n",
              "Fast food (Y/N)             37.721883\n",
              "Cycle(R/I)                  27.681419\n",
              "PRG(ng/mL)                  24.638020\n",
              "Pimples(Y/N)                22.587803\n",
              "Marraige Status (Yrs)       20.561562\n",
              "BMI                         14.568227\n",
              " Age (yrs)                  14.284370\n",
              "Hair loss(Y/N)               8.846546\n",
              "Avg. F size (L) (mm)         8.090830\n",
              "Cycle length(days)           7.750342\n",
              "Hip(inch)                    5.894434\n",
              "Waist(inch)                  5.593108\n",
              "RBS(mg/dl)                   4.459089\n",
              "Avg. F size (R) (mm)         3.673590\n",
              "Endometrium (mm)             3.397687\n",
              "No. of abortions             2.934677\n",
              "Reg.Exercise(Y/N)            1.737463\n",
              "Pulse rate(bpm)              1.219952\n",
              "Height(Cm)                   0.585219\n",
              "BP _Diastolic (mmHg)         0.315466\n",
              "Hb(g/dl)                     0.276315\n",
              "TSH (mIU/L)                  0.262652\n",
              "Pregnant(Y/N)                0.254536\n",
              "Blood Group                  0.175974\n",
              "PRL(ng/mL)                   0.131618\n",
              "RR (breaths/min)             0.109112\n",
              "BP _Systolic (mmHg)          0.016198\n",
              "Waist:Hip Ratio              0.000190\n",
              "dtype: float64"
            ]
          },
          "metadata": {},
          "execution_count": 9
        }
      ]
    },
    {
      "cell_type": "markdown",
      "source": [
        "# **EXTRA TREE CLASSIFIER**"
      ],
      "metadata": {
        "id": "saOVYL_lf4Es"
      }
    },
    {
      "cell_type": "code",
      "source": [
        "model = ExtraTreesClassifier()\n",
        "model.fit(x,y)"
      ],
      "metadata": {
        "colab": {
          "base_uri": "https://localhost:8080/"
        },
        "id": "8-0v-srUf7KT",
        "outputId": "bcd634ce-00fe-46a0-89bc-4d50e526c7c8"
      },
      "execution_count": null,
      "outputs": [
        {
          "output_type": "execute_result",
          "data": {
            "text/plain": [
              "ExtraTreesClassifier()"
            ],
            "text/html": [
              "<style>#sk-container-id-1 {color: black;background-color: white;}#sk-container-id-1 pre{padding: 0;}#sk-container-id-1 div.sk-toggleable {background-color: white;}#sk-container-id-1 label.sk-toggleable__label {cursor: pointer;display: block;width: 100%;margin-bottom: 0;padding: 0.3em;box-sizing: border-box;text-align: center;}#sk-container-id-1 label.sk-toggleable__label-arrow:before {content: \"▸\";float: left;margin-right: 0.25em;color: #696969;}#sk-container-id-1 label.sk-toggleable__label-arrow:hover:before {color: black;}#sk-container-id-1 div.sk-estimator:hover label.sk-toggleable__label-arrow:before {color: black;}#sk-container-id-1 div.sk-toggleable__content {max-height: 0;max-width: 0;overflow: hidden;text-align: left;background-color: #f0f8ff;}#sk-container-id-1 div.sk-toggleable__content pre {margin: 0.2em;color: black;border-radius: 0.25em;background-color: #f0f8ff;}#sk-container-id-1 input.sk-toggleable__control:checked~div.sk-toggleable__content {max-height: 200px;max-width: 100%;overflow: auto;}#sk-container-id-1 input.sk-toggleable__control:checked~label.sk-toggleable__label-arrow:before {content: \"▾\";}#sk-container-id-1 div.sk-estimator input.sk-toggleable__control:checked~label.sk-toggleable__label {background-color: #d4ebff;}#sk-container-id-1 div.sk-label input.sk-toggleable__control:checked~label.sk-toggleable__label {background-color: #d4ebff;}#sk-container-id-1 input.sk-hidden--visually {border: 0;clip: rect(1px 1px 1px 1px);clip: rect(1px, 1px, 1px, 1px);height: 1px;margin: -1px;overflow: hidden;padding: 0;position: absolute;width: 1px;}#sk-container-id-1 div.sk-estimator {font-family: monospace;background-color: #f0f8ff;border: 1px dotted black;border-radius: 0.25em;box-sizing: border-box;margin-bottom: 0.5em;}#sk-container-id-1 div.sk-estimator:hover {background-color: #d4ebff;}#sk-container-id-1 div.sk-parallel-item::after {content: \"\";width: 100%;border-bottom: 1px solid gray;flex-grow: 1;}#sk-container-id-1 div.sk-label:hover label.sk-toggleable__label {background-color: #d4ebff;}#sk-container-id-1 div.sk-serial::before {content: \"\";position: absolute;border-left: 1px solid gray;box-sizing: border-box;top: 0;bottom: 0;left: 50%;z-index: 0;}#sk-container-id-1 div.sk-serial {display: flex;flex-direction: column;align-items: center;background-color: white;padding-right: 0.2em;padding-left: 0.2em;position: relative;}#sk-container-id-1 div.sk-item {position: relative;z-index: 1;}#sk-container-id-1 div.sk-parallel {display: flex;align-items: stretch;justify-content: center;background-color: white;position: relative;}#sk-container-id-1 div.sk-item::before, #sk-container-id-1 div.sk-parallel-item::before {content: \"\";position: absolute;border-left: 1px solid gray;box-sizing: border-box;top: 0;bottom: 0;left: 50%;z-index: -1;}#sk-container-id-1 div.sk-parallel-item {display: flex;flex-direction: column;z-index: 1;position: relative;background-color: white;}#sk-container-id-1 div.sk-parallel-item:first-child::after {align-self: flex-end;width: 50%;}#sk-container-id-1 div.sk-parallel-item:last-child::after {align-self: flex-start;width: 50%;}#sk-container-id-1 div.sk-parallel-item:only-child::after {width: 0;}#sk-container-id-1 div.sk-dashed-wrapped {border: 1px dashed gray;margin: 0 0.4em 0.5em 0.4em;box-sizing: border-box;padding-bottom: 0.4em;background-color: white;}#sk-container-id-1 div.sk-label label {font-family: monospace;font-weight: bold;display: inline-block;line-height: 1.2em;}#sk-container-id-1 div.sk-label-container {text-align: center;}#sk-container-id-1 div.sk-container {/* jupyter's `normalize.less` sets `[hidden] { display: none; }` but bootstrap.min.css set `[hidden] { display: none !important; }` so we also need the `!important` here to be able to override the default hidden behavior on the sphinx rendered scikit-learn.org. See: https://github.com/scikit-learn/scikit-learn/issues/21755 */display: inline-block !important;position: relative;}#sk-container-id-1 div.sk-text-repr-fallback {display: none;}</style><div id=\"sk-container-id-1\" class=\"sk-top-container\"><div class=\"sk-text-repr-fallback\"><pre>ExtraTreesClassifier()</pre><b>In a Jupyter environment, please rerun this cell to show the HTML representation or trust the notebook. <br />On GitHub, the HTML representation is unable to render, please try loading this page with nbviewer.org.</b></div><div class=\"sk-container\" hidden><div class=\"sk-item\"><div class=\"sk-estimator sk-toggleable\"><input class=\"sk-toggleable__control sk-hidden--visually\" id=\"sk-estimator-id-1\" type=\"checkbox\" checked><label for=\"sk-estimator-id-1\" class=\"sk-toggleable__label sk-toggleable__label-arrow\">ExtraTreesClassifier</label><div class=\"sk-toggleable__content\"><pre>ExtraTreesClassifier()</pre></div></div></div></div></div>"
            ]
          },
          "metadata": {},
          "execution_count": 10
        }
      ]
    },
    {
      "cell_type": "code",
      "source": [
        "imp = pd.Series(model.feature_importances_,index=x.columns)\n",
        "imp.sort_values(ascending=False,inplace=True)\n",
        "imp"
      ],
      "metadata": {
        "colab": {
          "base_uri": "https://localhost:8080/"
        },
        "id": "rKIi0266gCJu",
        "outputId": "6bfa6a2f-dc02-4aa5-9322-1b61164a6e51"
      },
      "execution_count": null,
      "outputs": [
        {
          "output_type": "execute_result",
          "data": {
            "text/plain": [
              "Follicle No. (R)          0.127905\n",
              "Skin darkening (Y/N)      0.085060\n",
              "hair growth(Y/N)          0.084653\n",
              "Follicle No. (L)          0.083998\n",
              "Weight gain(Y/N)          0.072980\n",
              "Cycle(R/I)                0.052768\n",
              "Fast food (Y/N)           0.038143\n",
              "Pimples(Y/N)              0.029610\n",
              "Cycle length(days)        0.020877\n",
              "AMH(ng/mL)                0.018191\n",
              "LH(mIU/mL)                0.016970\n",
              "Avg. F size (L) (mm)      0.016578\n",
              "Hip(inch)                 0.016539\n",
              " Age (yrs)                0.016178\n",
              "Avg. F size (R) (mm)      0.016166\n",
              "Height(Cm)                0.014694\n",
              "Reg.Exercise(Y/N)         0.014568\n",
              "Hair loss(Y/N)            0.014361\n",
              "Weight (Kg)               0.013949\n",
              "Marraige Status (Yrs)     0.013807\n",
              "Waist(inch)               0.013578\n",
              "Waist:Hip Ratio           0.013070\n",
              "Endometrium (mm)          0.012715\n",
              "  I   beta-HCG(mIU/mL)    0.012658\n",
              "RR (breaths/min)          0.012467\n",
              "TSH (mIU/L)               0.012306\n",
              "Hb(g/dl)                  0.012289\n",
              "Pulse rate(bpm)           0.012171\n",
              "PRL(ng/mL)                0.012126\n",
              "BMI                       0.011465\n",
              "PRG(ng/mL)                0.011423\n",
              "BP _Systolic (mmHg)       0.011107\n",
              "FSH/LH                    0.010960\n",
              "RBS(mg/dl)                0.010651\n",
              "FSH(mIU/mL)               0.010508\n",
              "Vit D3 (ng/mL)            0.010463\n",
              "Blood Group               0.010293\n",
              "II    beta-HCG(mIU/mL)    0.008368\n",
              "BP _Diastolic (mmHg)      0.008083\n",
              "Pregnant(Y/N)             0.007886\n",
              "No. of abortions          0.007421\n",
              "dtype: float64"
            ]
          },
          "metadata": {},
          "execution_count": 11
        }
      ]
    },
    {
      "cell_type": "code",
      "source": [
        "imp.plot.bar()"
      ],
      "metadata": {
        "colab": {
          "base_uri": "https://localhost:8080/"
        },
        "id": "EGqGlvRogFwa",
        "outputId": "19f16703-7df0-4856-d135-bac8db6f9f6d"
      },
      "execution_count": null,
      "outputs": [
        {
          "output_type": "execute_result",
          "data": {
            "text/plain": [
              "<Axes: >"
            ]
          },
          "metadata": {},
          "execution_count": 12
        },
        {
          "output_type": "display_data",
          "data": {
            "text/plain": [
              "<Figure size 640x480 with 1 Axes>"
            ],
            "image/png": "[encoded data removed]"
          },
          "metadata": {}
        }
      ]
    },
    {
      "cell_type": "markdown",
      "source": [
        "# **Train Test Split**"
      ],
      "metadata": {
        "id": "gO3GtRtggRO3"
      }
    },
    {
      "cell_type": "code",
      "source": [
        "from sklearn.model_selection import train_test_split\n",
        "xtrain,xtest,ytrain,ytest = train_test_split(x,y,test_size=.25,random_state=1)"
      ],
      "metadata": {
        "id": "rMjEVXgvgTkl"
      },
      "execution_count": null,
      "outputs": []
    },
    {
      "cell_type": "code",
      "source": [
        "ytest"
      ],
      "metadata": {
        "colab": {
          "base_uri": "https://localhost:8080/"
        },
        "id": "y5l-WazigV4l",
        "outputId": "faa120fb-14a8-4ead-e321-f3104d58e394"
      },
      "execution_count": null,
      "outputs": [
        {
          "output_type": "execute_result",
          "data": {
            "text/plain": [
              "499    0\n",
              "486    1\n",
              "65     0\n",
              "41     0\n",
              "326    0\n",
              "      ..\n",
              "347    0\n",
              "441    0\n",
              "328    1\n",
              "364    0\n",
              "443    1\n",
              "Name: PCOS (Y/N), Length: 136, dtype: int64"
            ]
          },
          "metadata": {},
          "execution_count": 14
        }
      ]
    },
    {
      "cell_type": "markdown",
      "source": [
        "# **Random Forest**"
      ],
      "metadata": {
        "id": "dtVZloaYgc18"
      }
    },
    {
      "cell_type": "code",
      "source": [
        "from sklearn.ensemble import RandomForestClassifier\n",
        "from sklearn.metrics import accuracy_score, confusion_matrix, precision_score, recall_score, ConfusionMatrixDisplay\n",
        "from sklearn.model_selection import RandomizedSearchCV, train_test_split\n",
        "from scipy.stats import randint\n",
        "\n",
        "rf = RandomForestClassifier()\n",
        "rf.fit(xtrain, ytrain)\n",
        "y_pred = rf.predict(xtest)\n",
        "accuracy = accuracy_score(ytest, y_pred)\n",
        "print(\"Accuracy:\", accuracy)\n"
      ],
      "metadata": {
        "colab": {
          "base_uri": "https://localhost:8080/"
        },
        "id": "esyGJQVwgfA8",
        "outputId": "f41c073a-f318-4f8a-aa2b-3184e88a0166"
      },
      "execution_count": null,
      "outputs": [
        {
          "output_type": "stream",
          "name": "stdout",
          "text": [
            "Accuracy: 0.9117647058823529\n"
          ]
        }
      ]
    },
    {
      "cell_type": "code",
      "source": [
        "#top12 serially chi2 93.3%\n",
        "t5columnsl = ['Follicle No. (R)','Follicle No. (L)','Skin darkening (Y/N)', 'hair growth(Y/N)', 'Weight gain(Y/N)','Weight (Kg)','Cycle(R/I)', 'Fast food (Y/N)','Pimples(Y/N)', 'Marraige Status (Yrs)',\n",
        "' Age (yrs)','BMI']\n",
        "t5data = df[t5columnsl]\n",
        "\n",
        "t5xtrain,t5xtest,t5ytrain,t5ytest = train_test_split(t5data,y,test_size=.25,random_state=1)\n",
        "rf.fit(t5xtrain, t5ytrain)\n",
        "t5y_pred = rf.predict(t5xtest)\n",
        "preC=precision_score(ytest,t5y_pred)\n",
        "reC=recall_score(ytest,t5y_pred)\n",
        "fscoreC=f1_score(ytest,t5y_pred)\n",
        "accuracyC12 = accuracy_score(t5ytest, t5y_pred)\n",
        "print(\"Accuracy:\", accuracyC12)\n",
        "print(\"Precision:\",preC)\n",
        "print(\"Recall:\",reC)\n",
        "print(\"F1 Score:\",fscoreC)"
      ],
      "metadata": {
        "colab": {
          "base_uri": "https://localhost:8080/"
        },
        "id": "1zEr64HzguP5",
        "outputId": "2e8032ca-06e4-477a-f3e5-0a37c5c2128d"
      },
      "execution_count": null,
      "outputs": [
        {
          "output_type": "stream",
          "name": "stdout",
          "text": [
            "Accuracy: 0.9044117647058824\n",
            "Precision: 0.8974358974358975\n",
            "Recall: 0.7954545454545454\n",
            "F1 Score: 0.8433734939759037\n"
          ]
        }
      ]
    },
    {
      "cell_type": "code",
      "source": [
        "#top12 serially extra tree 91%\n",
        "t5columnsl = ['Follicle No. (R)','Follicle No. (L)', 'hair growth(Y/N)','Skin darkening (Y/N)', 'Weight gain(Y/N)','Cycle(R/I)', 'Fast food (Y/N)','Pimples(Y/N)', 'Cycle length(days)','Avg. F size (L) (mm)',\n",
        "'Hip(inch)','Marraige Status (Yrs)']\n",
        "t5data = df[t5columnsl]\n",
        "\n",
        "t5xtrain,t5xtest,t5ytrain,t5ytest = train_test_split(t5data,y,test_size=.25,random_state=1)\n",
        "rf.fit(t5xtrain, t5ytrain)\n",
        "t5y_pred = rf.predict(t5xtest)\n",
        "preE=precision_score(ytest,t5y_pred)\n",
        "reE=recall_score(ytest,t5y_pred)\n",
        "fscoreE=f1_score(ytest,t5y_pred)\n",
        "accuracyE12 = accuracy_score(t5ytest, t5y_pred)\n",
        "print(\"Accuracy:\", accuracyE12)\n",
        "print(\"Precision:\",preE)\n",
        "print(\"Recall:\",reE)\n",
        "print(\"F1 Score:\",fscoreE)"
      ],
      "metadata": {
        "colab": {
          "base_uri": "https://localhost:8080/"
        },
        "id": "aefyH_yVgx8k",
        "outputId": "4c20494a-8e88-4003-a16a-839fef701855"
      },
      "execution_count": null,
      "outputs": [
        {
          "output_type": "stream",
          "name": "stdout",
          "text": [
            "Accuracy: 0.9117647058823529\n",
            "Precision: 0.9\n",
            "Recall: 0.8181818181818182\n",
            "F1 Score: 0.8571428571428572\n"
          ]
        }
      ]
    },
    {
      "cell_type": "code",
      "source": [
        "x1 = [\"Pre_C\", \"Pre_E\", \"Acc_C\", \"Acc_E\", \"Rec_C\", \"Rec_E\", \"F1S_C\", \"F1S_E\"]\n",
        "y1 = [preC, preE, accuracyC12, accuracyE12, reC, reE, fscoreC, fscoreE]\n",
        "# Define colors for each bar\n",
        "colors = ['#4157A2', '#FF6347', '#4157A2', '#FF6347', '#4157A2', '#FF6347', '#4157A2', '#FF6347']\n",
        "plt.bar(x1, y1, color=colors)\n",
        "plt.show()"
      ],
      "metadata": {
        "colab": {
          "base_uri": "https://localhost:8080/",
          "height": 245
        },
        "id": "ZhqDNn2ig2j2",
        "outputId": "8e423147-3579-4d39-c5d7-c3c2e4bbe5b8"
      },
      "execution_count": null,
      "outputs": [
        {
          "output_type": "error",
          "ename": "NameError",
          "evalue": "ignored",
          "traceback": [
            "\u001b[0;31m---------------------------------------------------------------------------\u001b[0m",
            "\u001b[0;31mNameError\u001b[0m                                 Traceback (most recent call last)",
            "\u001b[0;32m<ipython-input-16-fccc4ae7d331>\u001b[0m in \u001b[0;36m<cell line: 2>\u001b[0;34m()\u001b[0m\n\u001b[1;32m      1\u001b[0m \u001b[0mx1\u001b[0m \u001b[0;34m=\u001b[0m \u001b[0;34m[\u001b[0m\u001b[0;34m\"Pre_C\"\u001b[0m\u001b[0;34m,\u001b[0m \u001b[0;34m\"Pre_E\"\u001b[0m\u001b[0;34m,\u001b[0m \u001b[0;34m\"Acc_C\"\u001b[0m\u001b[0;34m,\u001b[0m \u001b[0;34m\"Acc_E\"\u001b[0m\u001b[0;34m,\u001b[0m \u001b[0;34m\"Rec_C\"\u001b[0m\u001b[0;34m,\u001b[0m \u001b[0;34m\"Rec_E\"\u001b[0m\u001b[0;34m,\u001b[0m \u001b[0;34m\"F1S_C\"\u001b[0m\u001b[0;34m,\u001b[0m \u001b[0;34m\"F1S_E\"\u001b[0m\u001b[0;34m]\u001b[0m\u001b[0;34m\u001b[0m\u001b[0;34m\u001b[0m\u001b[0m\n\u001b[0;32m----> 2\u001b[0;31m \u001b[0my1\u001b[0m \u001b[0;34m=\u001b[0m \u001b[0;34m[\u001b[0m\u001b[0mpreC\u001b[0m\u001b[0;34m,\u001b[0m \u001b[0mpreE\u001b[0m\u001b[0;34m,\u001b[0m \u001b[0maccuracyC12\u001b[0m\u001b[0;34m,\u001b[0m \u001b[0maccuracyE12\u001b[0m\u001b[0;34m,\u001b[0m \u001b[0mreC\u001b[0m\u001b[0;34m,\u001b[0m \u001b[0mreE\u001b[0m\u001b[0;34m,\u001b[0m \u001b[0mfscoreC\u001b[0m\u001b[0;34m,\u001b[0m \u001b[0mfscoreE\u001b[0m\u001b[0;34m]\u001b[0m\u001b[0;34m\u001b[0m\u001b[0;34m\u001b[0m\u001b[0m\n\u001b[0m\u001b[1;32m      3\u001b[0m \u001b[0;31m# Define colors for each bar\u001b[0m\u001b[0;34m\u001b[0m\u001b[0;34m\u001b[0m\u001b[0m\n\u001b[1;32m      4\u001b[0m \u001b[0mcolors\u001b[0m \u001b[0;34m=\u001b[0m \u001b[0;34m[\u001b[0m\u001b[0;34m'#4157A2'\u001b[0m\u001b[0;34m,\u001b[0m \u001b[0;34m'#FF6347'\u001b[0m\u001b[0;34m,\u001b[0m \u001b[0;34m'#4157A2'\u001b[0m\u001b[0;34m,\u001b[0m \u001b[0;34m'#FF6347'\u001b[0m\u001b[0;34m,\u001b[0m \u001b[0;34m'#4157A2'\u001b[0m\u001b[0;34m,\u001b[0m \u001b[0;34m'#FF6347'\u001b[0m\u001b[0;34m,\u001b[0m \u001b[0;34m'#4157A2'\u001b[0m\u001b[0;34m,\u001b[0m \u001b[0;34m'#FF6347'\u001b[0m\u001b[0;34m]\u001b[0m\u001b[0;34m\u001b[0m\u001b[0;34m\u001b[0m\u001b[0m\n\u001b[1;32m      5\u001b[0m \u001b[0mplt\u001b[0m\u001b[0;34m.\u001b[0m\u001b[0mbar\u001b[0m\u001b[0;34m(\u001b[0m\u001b[0mx1\u001b[0m\u001b[0;34m,\u001b[0m \u001b[0my1\u001b[0m\u001b[0;34m,\u001b[0m \u001b[0mcolor\u001b[0m\u001b[0;34m=\u001b[0m\u001b[0mcolors\u001b[0m\u001b[0;34m)\u001b[0m\u001b[0;34m\u001b[0m\u001b[0;34m\u001b[0m\u001b[0m\n",
            "\u001b[0;31mNameError\u001b[0m: name 'preC' is not defined"
          ]
        }
      ]
    },
    {
      "cell_type": "code",
      "source": [
        "#top5 serially chi2 76%\n",
        "t5columnsl = ['Skin darkening (Y/N)', 'hair growth(Y/N)', 'Weight gain(Y/N)','Weight (Kg)','Fast food (Y/N)']\n",
        "t5data = df[t5columnsl]\n",
        "\n",
        "t5xtrain,t5xtest,t5ytrain,t5ytest = train_test_split(t5data,y,test_size=.25,random_state=1)\n",
        "rf.fit(t5xtrain, t5ytrain)\n",
        "t5y_pred = rf.predict(t5xtest)\n",
        "preC=precision_score(ytest,t5y_pred)\n",
        "reC=recall_score(ytest,t5y_pred)\n",
        "fscoreC=f1_score(ytest,t5y_pred)\n",
        "accuracyC5 = accuracy_score(t5ytest, t5y_pred)\n",
        "print(\"Accuracy:\", accuracyC5)\n",
        "print(\"Precision:\",preC)\n",
        "print(\"Recall:\",reC)\n",
        "print(\"F1 Score:\",fscoreC)"
      ],
      "metadata": {
        "colab": {
          "base_uri": "https://localhost:8080/"
        },
        "id": "-7TXW2akhEQr",
        "outputId": "45774722-9fdb-4313-a04f-85b3189f460f"
      },
      "execution_count": null,
      "outputs": [
        {
          "output_type": "stream",
          "name": "stdout",
          "text": [
            "Accuracy: 0.7647058823529411\n",
            "Precision: 0.6304347826086957\n",
            "Recall: 0.6590909090909091\n",
            "F1 Score: 0.6444444444444444\n"
          ]
        }
      ]
    },
    {
      "cell_type": "code",
      "source": [
        "#top5 serially extra tree 84%\n",
        "t5columnsl = ['hair growth(Y/N)','Skin darkening (Y/N)', 'Weight gain(Y/N)','Cycle(R/I)', 'Fast food (Y/N)']\n",
        "t5data = df[t5columnsl]\n",
        "\n",
        "t5xtrain,t5xtest,t5ytrain,t5ytest = train_test_split(t5data,y,test_size=.25,random_state=1)\n",
        "rf.fit(t5xtrain, t5ytrain)\n",
        "t5y_pred = rf.predict(t5xtest)\n",
        "preE=precision_score(ytest,t5y_pred)\n",
        "reE=recall_score(ytest,t5y_pred)\n",
        "fscoreE=f1_score(ytest,t5y_pred)\n",
        "accuracyE5 = accuracy_score(t5ytest, t5y_pred)\n",
        "print(\"Accuracy:\", accuracyE5)\n",
        "print(\"Precision:\",preE)\n",
        "print(\"Recall:\",reE)\n",
        "print(\"F1 Score:\",fscoreE)"
      ],
      "metadata": {
        "colab": {
          "base_uri": "https://localhost:8080/"
        },
        "id": "oTBmT_8sh4wD",
        "outputId": "ba3e171f-b784-4e32-f880-f40c4bf42db1"
      },
      "execution_count": null,
      "outputs": [
        {
          "output_type": "stream",
          "name": "stdout",
          "text": [
            "Accuracy: 0.8455882352941176\n",
            "Precision: 0.7555555555555555\n",
            "Recall: 0.7727272727272727\n",
            "F1 Score: 0.7640449438202247\n"
          ]
        }
      ]
    },
    {
      "cell_type": "code",
      "source": [
        "#top10 without ultra sound serially chi2 85%\n",
        "t5columnsl = ['Skin darkening (Y/N)', 'hair growth(Y/N)', 'Weight gain(Y/N)','Weight (Kg)','Cycle(R/I)', 'Fast food (Y/N)','Pimples(Y/N)', 'Marraige Status (Yrs)',\n",
        "' Age (yrs)','BMI']\n",
        "t5data = df[t5columnsl]\n",
        "\n",
        "t5xtrain,t5xtest,t5ytrain,t5ytest = train_test_split(t5data,y,test_size=.25,random_state=1)\n",
        "rf.fit(t5xtrain, t5ytrain)\n",
        "t5y_pred = rf.predict(t5xtest)\n",
        "preC=precision_score(ytest,t5y_pred)\n",
        "reC=recall_score(ytest,t5y_pred)\n",
        "fscoreC=f1_score(ytest,t5y_pred)\n",
        "accuracyC10 = accuracy_score(t5ytest, t5y_pred)\n",
        "print(\"Accuracy:\", accuracyC10)\n",
        "print(\"Precision:\",preC)\n",
        "print(\"Recall:\",reC)\n",
        "print(\"F1 Score:\",fscoreC)"
      ],
      "metadata": {
        "colab": {
          "base_uri": "https://localhost:8080/"
        },
        "id": "rcbMGZedirX6",
        "outputId": "49126c64-346d-4f12-f2a7-a2d3e832a673"
      },
      "execution_count": null,
      "outputs": [
        {
          "output_type": "stream",
          "name": "stdout",
          "text": [
            "Accuracy: 0.8529411764705882\n",
            "Precision: 0.7608695652173914\n",
            "Recall: 0.7954545454545454\n",
            "F1 Score: 0.7777777777777778\n"
          ]
        }
      ]
    },
    {
      "cell_type": "code",
      "source": [
        "#top10 serially extra tree 84%\n",
        "t5columnsl = ['hair growth(Y/N)','Skin darkening (Y/N)', 'Weight gain(Y/N)','Cycle(R/I)', 'Fast food (Y/N)','Pimples(Y/N)', 'Cycle length(days)','Hip(inch)','Marraige Status (Yrs)','Waist:Hip Ratio']\n",
        "t5data = df[t5columnsl]\n",
        "\n",
        "t5xtrain,t5xtest,t5ytrain,t5ytest = train_test_split(t5data,y,test_size=.25,random_state=1)\n",
        "rf.fit(t5xtrain, t5ytrain)\n",
        "t5y_pred = rf.predict(t5xtest)\n",
        "preE=precision_score(ytest,t5y_pred)\n",
        "reE=recall_score(ytest,t5y_pred)\n",
        "fscoreE=f1_score(ytest,t5y_pred)\n",
        "accuracyE10 = accuracy_score(t5ytest, t5y_pred)\n",
        "print(\"Accuracy:\", accuracyE10)\n",
        "print(\"Precision:\",preE)\n",
        "print(\"Recall:\",reE)\n",
        "print(\"F1 Score:\",fscoreE)"
      ],
      "metadata": {
        "colab": {
          "base_uri": "https://localhost:8080/"
        },
        "id": "aha1vs4rjQfc",
        "outputId": "0338ada3-e7bd-4afd-8425-0c68494edda4"
      },
      "execution_count": null,
      "outputs": [
        {
          "output_type": "stream",
          "name": "stdout",
          "text": [
            "Accuracy: 0.8455882352941176\n",
            "Precision: 0.7674418604651163\n",
            "Recall: 0.75\n",
            "F1 Score: 0.7586206896551724\n"
          ]
        }
      ]
    },
    {
      "cell_type": "code",
      "source": [
        "x1 = [\"Acc_C5\", \"Acc_C10\", \"Acc_C12\",\"Acc_E5\",\"Acc_E10\", \"Acc_E12\"]\n",
        "y1 = [accuracyC5,accuracyC10,accuracyC12, accuracyE5, accuracyE10, accuracyE12]\n",
        "# Define colors for each bar\n",
        "colors = ['#FF6347', '#FF6347', '#FF6347', '#4157A2', '#4157A2', '#4157A2']\n",
        "plt.bar(x1, y1, color=colors)\n",
        "plt.show()"
      ],
      "metadata": {
        "colab": {
          "base_uri": "https://localhost:8080/",
          "height": 430
        },
        "id": "vz6fIg1OvZMn",
        "outputId": "672f4424-48b0-4fb5-e7fd-1a65bc997de2"
      },
      "execution_count": null,
      "outputs": [
        {
          "output_type": "display_data",
          "data": {
            "text/plain": [
              "<Figure size 640x480 with 1 Axes>"
            ],
            "image/png": "[encoded data removed]"
          },
          "metadata": {}
        }
      ]
    },
    {
      "cell_type": "markdown",
      "source": [
        "# **ADABOOSTClassifier**"
      ],
      "metadata": {
        "id": "EG-f2q7qkyCN"
      }
    },
    {
      "cell_type": "code",
      "source": [
        "from sklearn import metrics\n",
        "from sklearn.ensemble import AdaBoostClassifier\n",
        "AdaModel=AdaBoostClassifier(n_estimators=100,learning_rate=1)\n",
        "model=AdaModel.fit(xtrain, ytrain)\n",
        "ypred=model.predict(xtest)\n",
        "print(\"Accuracy:\",metrics.accuracy_score(ytest,ypred))"
      ],
      "metadata": {
        "colab": {
          "base_uri": "https://localhost:8080/"
        },
        "id": "ey4TnmgdkvFq",
        "outputId": "bbd3fa15-1c1e-4704-8680-4397b670d48a"
      },
      "execution_count": null,
      "outputs": [
        {
          "output_type": "stream",
          "name": "stdout",
          "text": [
            "Accuracy: 0.8529411764705882\n"
          ]
        }
      ]
    },
    {
      "cell_type": "code",
      "source": [
        "#top12 serially extra tree 89%\n",
        "t5columnsl = ['Follicle No. (R)','Follicle No. (L)', 'hair growth(Y/N)','Skin darkening (Y/N)', 'Weight gain(Y/N)','Cycle(R/I)', 'Fast food (Y/N)','Pimples(Y/N)', 'Cycle length(days)','Avg. F size (L) (mm)',\n",
        "'Hip(inch)','Marraige Status (Yrs)']\n",
        "t5data = df[t5columnsl]\n",
        "\n",
        "t5xtrain,t5xtest,t5ytrain,t5ytest = train_test_split(t5data,y,test_size=.25,random_state=1)\n",
        "model.fit(t5xtrain, t5ytrain)\n",
        "t5y_pred = model.predict(t5xtest)\n",
        "preE=precision_score(ytest,t5y_pred)\n",
        "reE=recall_score(ytest,t5y_pred)\n",
        "fscoreE=f1_score(ytest,t5y_pred)\n",
        "accuracyE = accuracy_score(t5ytest, t5y_pred)\n",
        "print(\"Accuracy:\", accuracyE)\n",
        "print(\"Precision:\",preE)\n",
        "print(\"Recall:\",reE)\n",
        "print(\"F1 Score:\",fscoreE)"
      ],
      "metadata": {
        "colab": {
          "base_uri": "https://localhost:8080/"
        },
        "id": "5MaHOcgnlDdW",
        "outputId": "b270fc15-f37b-4256-d7e8-92cb0d3ef8f5"
      },
      "execution_count": null,
      "outputs": [
        {
          "output_type": "stream",
          "name": "stdout",
          "text": [
            "Accuracy: 0.8970588235294118\n",
            "Precision: 0.8947368421052632\n",
            "Recall: 0.7727272727272727\n",
            "F1 Score: 0.8292682926829269\n"
          ]
        }
      ]
    },
    {
      "cell_type": "code",
      "source": [
        "#top12 serially chi2 91%\n",
        "t5columnsl = ['Follicle No. (R)','Follicle No. (L)','Skin darkening (Y/N)', 'hair growth(Y/N)', 'Weight gain(Y/N)','Weight (Kg)','Cycle(R/I)', 'Fast food (Y/N)','Pimples(Y/N)', 'Marraige Status (Yrs)',\n",
        "' Age (yrs)','BMI']\n",
        "t5data = df[t5columnsl]\n",
        "\n",
        "t5xtrain,t5xtest,t5ytrain,t5ytest = train_test_split(t5data,y,test_size=.25,random_state=1)\n",
        "model.fit(t5xtrain, t5ytrain)\n",
        "t5y_pred = model.predict(t5xtest)\n",
        "preC=precision_score(ytest,t5y_pred)\n",
        "reC=recall_score(ytest,t5y_pred)\n",
        "fscoreC=f1_score(ytest,t5y_pred)\n",
        "accuracyC = accuracy_score(t5ytest, t5y_pred)\n",
        "print(\"Accuracy:\", accuracyC)\n",
        "print(\"Precision:\",preC)\n",
        "print(\"Recall:\",reC)\n",
        "print(\"F1 Score:\",fscoreC)"
      ],
      "metadata": {
        "colab": {
          "base_uri": "https://localhost:8080/"
        },
        "id": "IcQDIIv0lGHe",
        "outputId": "3b9079d3-17c0-40e4-d1c3-3c6f50428369"
      },
      "execution_count": null,
      "outputs": [
        {
          "output_type": "stream",
          "name": "stdout",
          "text": [
            "Accuracy: 0.9117647058823529\n",
            "Precision: 0.8809523809523809\n",
            "Recall: 0.8409090909090909\n",
            "F1 Score: 0.8604651162790699\n"
          ]
        }
      ]
    },
    {
      "cell_type": "code",
      "source": [
        "x1 = [\"Pre_C\", \"Pre_E\", \"Acc_C\", \"Acc_E\", \"Rec_C\", \"Rec_E\", \"F1S_C\", \"F1S_E\"]\n",
        "y1 = [preC, preE, accuracyC, accuracyE, reC, reE, fscoreC, fscoreE]\n",
        "# Define colors for each bar\n",
        "colors = ['#4157A2', '#FF6347', '#4157A2', '#FF6347', '#4157A2', '#FF6347', '#4157A2', '#FF6347']\n",
        "plt.bar(x1, y1, color=colors)\n",
        "plt.show()"
      ],
      "metadata": {
        "colab": {
          "base_uri": "https://localhost:8080/",
          "height": 430
        },
        "id": "9DoVeAG8lL-1",
        "outputId": "08c26f9a-b51b-4c09-8517-e47993eb76f6"
      },
      "execution_count": null,
      "outputs": [
        {
          "output_type": "display_data",
          "data": {
            "text/plain": [
              "<Figure size 640x480 with 1 Axes>"
            ],
            "image/png": "[encoded data removed]"
          },
          "metadata": {}
        }
      ]
    },
    {
      "cell_type": "code",
      "source": [
        "#top5 serially chi2 82%\n",
        "t5columnsl = ['Skin darkening (Y/N)', 'hair growth(Y/N)', 'Weight gain(Y/N)','Weight (Kg)','Fast food (Y/N)']\n",
        "t5data = df[t5columnsl]\n",
        "\n",
        "t5xtrain,t5xtest,t5ytrain,t5ytest = train_test_split(t5data,y,test_size=.25,random_state=1)\n",
        "model.fit(t5xtrain, t5ytrain)\n",
        "t5y_pred = model.predict(t5xtest)\n",
        "preC=precision_score(ytest,t5y_pred)\n",
        "reC=recall_score(ytest,t5y_pred)\n",
        "fscoreC=f1_score(ytest,t5y_pred)\n",
        "accuracyC = accuracy_score(t5ytest, t5y_pred)\n",
        "print(\"Accuracy:\", accuracyC)\n",
        "print(\"Precision:\",preC)\n",
        "print(\"Recall:\",reC)\n",
        "print(\"F1 Score:\",fscoreC)"
      ],
      "metadata": {
        "colab": {
          "base_uri": "https://localhost:8080/"
        },
        "id": "cERBEkEoleRB",
        "outputId": "316d1968-e925-4376-efb3-6fcf5a7d44c5"
      },
      "execution_count": null,
      "outputs": [
        {
          "output_type": "stream",
          "name": "stdout",
          "text": [
            "Accuracy: 0.8235294117647058\n",
            "Precision: 0.7272727272727273\n",
            "Recall: 0.7272727272727273\n",
            "F1 Score: 0.7272727272727273\n"
          ]
        }
      ]
    },
    {
      "cell_type": "code",
      "source": [
        "#top5 serially extra tree 86%\n",
        "t5columnsl = ['hair growth(Y/N)','Skin darkening (Y/N)', 'Weight gain(Y/N)','Cycle(R/I)', 'Fast food (Y/N)']\n",
        "t5data = df[t5columnsl]\n",
        "\n",
        "t5xtrain,t5xtest,t5ytrain,t5ytest = train_test_split(t5data,y,test_size=.25,random_state=1)\n",
        "model.fit(t5xtrain, t5ytrain)\n",
        "t5y_pred = model.predict(t5xtest)\n",
        "preE=precision_score(ytest,t5y_pred)\n",
        "reE=recall_score(ytest,t5y_pred)\n",
        "fscoreE=f1_score(ytest,t5y_pred)\n",
        "accuracyE = accuracy_score(t5ytest, t5y_pred)\n",
        "print(\"Accuracy:\", accuracyE)\n",
        "print(\"Precision:\",preE)\n",
        "print(\"Recall:\",reE)\n",
        "print(\"F1 Score:\",fscoreE)"
      ],
      "metadata": {
        "colab": {
          "base_uri": "https://localhost:8080/"
        },
        "id": "oS2gQZHOlQVp",
        "outputId": "b2505d3a-7cd1-4c7e-89b9-f59ce807f04d"
      },
      "execution_count": null,
      "outputs": [
        {
          "output_type": "stream",
          "name": "stdout",
          "text": [
            "Accuracy: 0.8602941176470589\n",
            "Precision: 0.7906976744186046\n",
            "Recall: 0.7727272727272727\n",
            "F1 Score: 0.7816091954022988\n"
          ]
        }
      ]
    },
    {
      "cell_type": "code",
      "source": [
        "#top10 serially chi2 81%\n",
        "t5columnsl = ['Skin darkening (Y/N)', 'hair growth(Y/N)', 'Weight gain(Y/N)','Weight (Kg)','Cycle(R/I)', 'Fast food (Y/N)','Pimples(Y/N)', 'Marraige Status (Yrs)',\n",
        "' Age (yrs)','BMI']\n",
        "t5data = df[t5columnsl]\n",
        "\n",
        "t5xtrain,t5xtest,t5ytrain,t5ytest = train_test_split(t5data,y,test_size=.25,random_state=1)\n",
        "model.fit(t5xtrain, t5ytrain)\n",
        "t5y_pred = model.predict(t5xtest)\n",
        "preC=precision_score(ytest,t5y_pred)\n",
        "reC=recall_score(ytest,t5y_pred)\n",
        "fscoreC=f1_score(ytest,t5y_pred)\n",
        "accuracyC = accuracy_score(t5ytest, t5y_pred)\n",
        "print(\"Accuracy:\", accuracyC)\n",
        "print(\"Precision:\",preC)\n",
        "print(\"Recall:\",reC)\n",
        "print(\"F1 Score:\",fscoreC)"
      ],
      "metadata": {
        "colab": {
          "base_uri": "https://localhost:8080/"
        },
        "id": "rnmYmn8Jmvnx",
        "outputId": "b733b41b-d90a-4d20-a52b-fd56a068a16f"
      },
      "execution_count": null,
      "outputs": [
        {
          "output_type": "stream",
          "name": "stdout",
          "text": [
            "Accuracy: 0.8161764705882353\n",
            "Precision: 0.7209302325581395\n",
            "Recall: 0.7045454545454546\n",
            "F1 Score: 0.7126436781609196\n"
          ]
        }
      ]
    },
    {
      "cell_type": "code",
      "source": [
        "#top10 serially extra tree 80%\n",
        "t5columnsl = ['hair growth(Y/N)','Skin darkening (Y/N)', 'Weight gain(Y/N)','Cycle(R/I)', 'Fast food (Y/N)','Pimples(Y/N)', 'Cycle length(days)','Avg. F size (L) (mm)',\n",
        "'Hip(inch)','Marraige Status (Yrs)','Waist:Hip Ratio']\n",
        "t5data = df[t5columnsl]\n",
        "\n",
        "t5xtrain,t5xtest,t5ytrain,t5ytest = train_test_split(t5data,y,test_size=.25,random_state=1)\n",
        "model.fit(t5xtrain, t5ytrain)\n",
        "t5y_pred = model.predict(t5xtest)\n",
        "preE=precision_score(ytest,t5y_pred)\n",
        "reE=recall_score(ytest,t5y_pred)\n",
        "fscoreE=f1_score(ytest,t5y_pred)\n",
        "accuracyE = accuracy_score(t5ytest, t5y_pred)\n",
        "print(\"Accuracy:\", accuracyE)\n",
        "print(\"Precision:\",preE)\n",
        "print(\"Recall:\",reE)\n",
        "print(\"F1 Score:\",fscoreE)"
      ],
      "metadata": {
        "colab": {
          "base_uri": "https://localhost:8080/"
        },
        "id": "euKupI-QmD8o",
        "outputId": "2e9a1174-918e-4fbe-e748-cd662b9fccdf"
      },
      "execution_count": null,
      "outputs": [
        {
          "output_type": "stream",
          "name": "stdout",
          "text": [
            "Accuracy: 0.8088235294117647\n",
            "Precision: 0.7045454545454546\n",
            "Recall: 0.7045454545454546\n",
            "F1 Score: 0.7045454545454546\n"
          ]
        }
      ]
    },
    {
      "cell_type": "code",
      "source": [
        "x1 = [\"Acc_C5\", \"Acc_C10\", \"Acc_C12\",\"Acc_E5\",\"Acc_E10\", \"Acc_E12\"]\n",
        "y1 = [accuracyC5,accuracyC10,accuracyC12, accuracyE5, accuracyE10, accuracyE12]\n",
        "# Define colors for each bar\n",
        "colors = ['#FF6347', '#FF6347', '#FF6347', '#4157A2', '#4157A2', '#4157A2']\n",
        "plt.bar(x1, y1, color=colors)\n",
        "plt.show()"
      ],
      "metadata": {
        "colab": {
          "base_uri": "https://localhost:8080/",
          "height": 430
        },
        "id": "aYhAEf-d0F5K",
        "outputId": "ca58da37-c217-469e-f45e-1f7abb1f8807"
      },
      "execution_count": null,
      "outputs": [
        {
          "output_type": "display_data",
          "data": {
            "text/plain": [
              "<Figure size 640x480 with 1 Axes>"
            ],
            "image/png": "[encoded data removed]"
          },
          "metadata": {}
        }
      ]
    },
    {
      "cell_type": "markdown",
      "source": [
        "# **SVM**"
      ],
      "metadata": {
        "id": "4Xq0zeQqnMuL"
      }
    },
    {
      "cell_type": "code",
      "source": [
        "from sklearn.svm import SVC"
      ],
      "metadata": {
        "id": "8kpsTLwGnRrL"
      },
      "execution_count": null,
      "outputs": []
    },
    {
      "cell_type": "code",
      "source": [
        "model1=SVC(kernel='linear')\n",
        "model1.fit(xtrain,ytrain)"
      ],
      "metadata": {
        "colab": {
          "base_uri": "https://localhost:8080/",
          "height": 74
        },
        "id": "BUPmZ9jino26",
        "outputId": "ace84794-4e86-4281-dbf0-bc03c9d9141e"
      },
      "execution_count": null,
      "outputs": [
        {
          "output_type": "execute_result",
          "data": {
            "text/plain": [
              "SVC(kernel='linear')"
            ],
            "text/html": [
              "<style>#sk-container-id-3 {color: black;background-color: white;}#sk-container-id-3 pre{padding: 0;}#sk-container-id-3 div.sk-toggleable {background-color: white;}#sk-container-id-3 label.sk-toggleable__label {cursor: pointer;display: block;width: 100%;margin-bottom: 0;padding: 0.3em;box-sizing: border-box;text-align: center;}#sk-container-id-3 label.sk-toggleable__label-arrow:before {content: \"▸\";float: left;margin-right: 0.25em;color: #696969;}#sk-container-id-3 label.sk-toggleable__label-arrow:hover:before {color: black;}#sk-container-id-3 div.sk-estimator:hover label.sk-toggleable__label-arrow:before {color: black;}#sk-container-id-3 div.sk-toggleable__content {max-height: 0;max-width: 0;overflow: hidden;text-align: left;background-color: #f0f8ff;}#sk-container-id-3 div.sk-toggleable__content pre {margin: 0.2em;color: black;border-radius: 0.25em;background-color: #f0f8ff;}#sk-container-id-3 input.sk-toggleable__control:checked~div.sk-toggleable__content {max-height: 200px;max-width: 100%;overflow: auto;}#sk-container-id-3 input.sk-toggleable__control:checked~label.sk-toggleable__label-arrow:before {content: \"▾\";}#sk-container-id-3 div.sk-estimator input.sk-toggleable__control:checked~label.sk-toggleable__label {background-color: #d4ebff;}#sk-container-id-3 div.sk-label input.sk-toggleable__control:checked~label.sk-toggleable__label {background-color: #d4ebff;}#sk-container-id-3 input.sk-hidden--visually {border: 0;clip: rect(1px 1px 1px 1px);clip: rect(1px, 1px, 1px, 1px);height: 1px;margin: -1px;overflow: hidden;padding: 0;position: absolute;width: 1px;}#sk-container-id-3 div.sk-estimator {font-family: monospace;background-color: #f0f8ff;border: 1px dotted black;border-radius: 0.25em;box-sizing: border-box;margin-bottom: 0.5em;}#sk-container-id-3 div.sk-estimator:hover {background-color: #d4ebff;}#sk-container-id-3 div.sk-parallel-item::after {content: \"\";width: 100%;border-bottom: 1px solid gray;flex-grow: 1;}#sk-container-id-3 div.sk-label:hover label.sk-toggleable__label {background-color: #d4ebff;}#sk-container-id-3 div.sk-serial::before {content: \"\";position: absolute;border-left: 1px solid gray;box-sizing: border-box;top: 0;bottom: 0;left: 50%;z-index: 0;}#sk-container-id-3 div.sk-serial {display: flex;flex-direction: column;align-items: center;background-color: white;padding-right: 0.2em;padding-left: 0.2em;position: relative;}#sk-container-id-3 div.sk-item {position: relative;z-index: 1;}#sk-container-id-3 div.sk-parallel {display: flex;align-items: stretch;justify-content: center;background-color: white;position: relative;}#sk-container-id-3 div.sk-item::before, #sk-container-id-3 div.sk-parallel-item::before {content: \"\";position: absolute;border-left: 1px solid gray;box-sizing: border-box;top: 0;bottom: 0;left: 50%;z-index: -1;}#sk-container-id-3 div.sk-parallel-item {display: flex;flex-direction: column;z-index: 1;position: relative;background-color: white;}#sk-container-id-3 div.sk-parallel-item:first-child::after {align-self: flex-end;width: 50%;}#sk-container-id-3 div.sk-parallel-item:last-child::after {align-self: flex-start;width: 50%;}#sk-container-id-3 div.sk-parallel-item:only-child::after {width: 0;}#sk-container-id-3 div.sk-dashed-wrapped {border: 1px dashed gray;margin: 0 0.4em 0.5em 0.4em;box-sizing: border-box;padding-bottom: 0.4em;background-color: white;}#sk-container-id-3 div.sk-label label {font-family: monospace;font-weight: bold;display: inline-block;line-height: 1.2em;}#sk-container-id-3 div.sk-label-container {text-align: center;}#sk-container-id-3 div.sk-container {/* jupyter's `normalize.less` sets `[hidden] { display: none; }` but bootstrap.min.css set `[hidden] { display: none !important; }` so we also need the `!important` here to be able to override the default hidden behavior on the sphinx rendered scikit-learn.org. See: https://github.com/scikit-learn/scikit-learn/issues/21755 */display: inline-block !important;position: relative;}#sk-container-id-3 div.sk-text-repr-fallback {display: none;}</style><div id=\"sk-container-id-3\" class=\"sk-top-container\"><div class=\"sk-text-repr-fallback\"><pre>SVC(kernel=&#x27;linear&#x27;)</pre><b>In a Jupyter environment, please rerun this cell to show the HTML representation or trust the notebook. <br />On GitHub, the HTML representation is unable to render, please try loading this page with nbviewer.org.</b></div><div class=\"sk-container\" hidden><div class=\"sk-item\"><div class=\"sk-estimator sk-toggleable\"><input class=\"sk-toggleable__control sk-hidden--visually\" id=\"sk-estimator-id-3\" type=\"checkbox\" checked><label for=\"sk-estimator-id-3\" class=\"sk-toggleable__label sk-toggleable__label-arrow\">SVC</label><div class=\"sk-toggleable__content\"><pre>SVC(kernel=&#x27;linear&#x27;)</pre></div></div></div></div></div>"
            ]
          },
          "metadata": {},
          "execution_count": 131
        }
      ]
    },
    {
      "cell_type": "code",
      "source": [
        "model1.score(xtest,ytest)"
      ],
      "metadata": {
        "colab": {
          "base_uri": "https://localhost:8080/"
        },
        "id": "yZIMm-3Cn_8D",
        "outputId": "d86231bb-344d-4d0e-965d-c6e800167656"
      },
      "execution_count": null,
      "outputs": [
        {
          "output_type": "execute_result",
          "data": {
            "text/plain": [
              "0.8455882352941176"
            ]
          },
          "metadata": {},
          "execution_count": 132
        }
      ]
    },
    {
      "cell_type": "code",
      "source": [
        "#top12 serially chi2 92.6%\n",
        "t5columnsl = ['Follicle No. (R)','Follicle No. (L)','Skin darkening (Y/N)', 'hair growth(Y/N)', 'Weight gain(Y/N)','Weight (Kg)','Cycle(R/I)', 'Fast food (Y/N)','Pimples(Y/N)', 'Marraige Status (Yrs)',\n",
        "' Age (yrs)','BMI']\n",
        "t5data = df[t5columnsl]\n",
        "\n",
        "t5xtrain,t5xtest,t5ytrain,t5ytest = train_test_split(t5data,y,test_size=.25,random_state=1)\n",
        "model.fit(t5xtrain, t5ytrain)\n",
        "t5y_pred = model.predict(t5xtest)\n",
        "preC=precision_score(ytest,t5y_pred)\n",
        "reC=recall_score(ytest,t5y_pred)\n",
        "fscoreC=f1_score(ytest,t5y_pred)\n",
        "accuracyC = accuracy_score(t5ytest, t5y_pred)\n",
        "print(\"Accuracy:\", accuracyC)\n",
        "print(\"Precision:\",preC)\n",
        "print(\"Recall:\",reC)\n",
        "print(\"F1 Score:\",fscoreC)\n"
      ],
      "metadata": {
        "colab": {
          "base_uri": "https://localhost:8080/"
        },
        "id": "lyU1BrtVoPUN",
        "outputId": "e69fda74-6021-4144-a144-554b4e11a1ab"
      },
      "execution_count": null,
      "outputs": [
        {
          "output_type": "stream",
          "name": "stdout",
          "text": [
            "Accuracy: 0.9264705882352942\n",
            "Precision: 0.9473684210526315\n",
            "Recall: 0.8181818181818182\n",
            "F1 Score: 0.8780487804878049\n"
          ]
        }
      ]
    },
    {
      "cell_type": "code",
      "source": [
        "#top12 serially extra tree 90%\n",
        "t5columnsl = ['Follicle No. (R)','Follicle No. (L)', 'hair growth(Y/N)','Skin darkening (Y/N)', 'Weight gain(Y/N)','Cycle(R/I)', 'Fast food (Y/N)','Pimples(Y/N)', 'Cycle length(days)','Avg. F size (L) (mm)',\n",
        "'Hip(inch)','Marraige Status (Yrs)']\n",
        "t5data = df[t5columnsl]\n",
        "\n",
        "t5xtrain,t5xtest,t5ytrain,t5ytest = train_test_split(t5data,y,test_size=.25,random_state=1)\n",
        "model1.fit(t5xtrain, t5ytrain)\n",
        "t5y_pred = model1.predict(t5xtest)\n",
        "preE=precision_score(ytest,t5y_pred)\n",
        "reE=recall_score(ytest,t5y_pred)\n",
        "fscoreE=f1_score(ytest,t5y_pred)\n",
        "accuracyE = accuracy_score(t5ytest, t5y_pred)\n",
        "print(\"Accuracy:\", accuracyE)\n",
        "print(\"Precision:\",preE)\n",
        "print(\"Recall:\",reE)\n",
        "print(\"F1 Score:\",fscoreE)\n"
      ],
      "metadata": {
        "colab": {
          "base_uri": "https://localhost:8080/"
        },
        "id": "l0docl2-oSBq",
        "outputId": "8a352525-93b1-44a4-e506-92aea0084cc2"
      },
      "execution_count": null,
      "outputs": [
        {
          "output_type": "stream",
          "name": "stdout",
          "text": [
            "Accuracy: 0.9044117647058824\n",
            "Precision: 0.8974358974358975\n",
            "Recall: 0.7954545454545454\n",
            "F1 Score: 0.8433734939759037\n"
          ]
        }
      ]
    },
    {
      "cell_type": "code",
      "source": [
        "#top5 serially chi2 82.3%\n",
        "t5columnsl =['Skin darkening (Y/N)', 'hair growth(Y/N)', 'Weight gain(Y/N)','Weight (Kg)','Fast food (Y/N)']\n",
        "t5data = df[t5columnsl]\n",
        "\n",
        "t5xtrain,t5xtest,t5ytrain,t5ytest = train_test_split(t5data,y,test_size=.25,random_state=1)\n",
        "model1.fit(t5xtrain, t5ytrain)\n",
        "t5y_pred = model1.predict(t5xtest)\n",
        "preC=precision_score(ytest,t5y_pred)\n",
        "reC=recall_score(ytest,t5y_pred)\n",
        "fscoreC=f1_score(ytest,t5y_pred)\n",
        "accuracyC = accuracy_score(t5ytest, t5y_pred)\n",
        "print(\"Accuracy:\", accuracyC)\n",
        "print(\"Precision:\",preC)\n",
        "print(\"Recall:\",reC)\n",
        "print(\"F1 Score:\",fscoreC)\n"
      ],
      "metadata": {
        "colab": {
          "base_uri": "https://localhost:8080/"
        },
        "id": "JRW188NToUkm",
        "outputId": "9ae9a335-9092-4b15-a4d6-f23df5f13f4f"
      },
      "execution_count": null,
      "outputs": [
        {
          "output_type": "stream",
          "name": "stdout",
          "text": [
            "Accuracy: 0.8235294117647058\n",
            "Precision: 0.7272727272727273\n",
            "Recall: 0.7272727272727273\n",
            "F1 Score: 0.7272727272727273\n"
          ]
        }
      ]
    },
    {
      "cell_type": "code",
      "source": [
        "#top5 serially extra tree 82.3%\n",
        "t5columnsl = ['hair growth(Y/N)','Skin darkening (Y/N)', 'Weight gain(Y/N)','Cycle(R/I)', 'Fast food (Y/N)']\n",
        "t5data = df[t5columnsl]\n",
        "\n",
        "t5xtrain,t5xtest,t5ytrain,t5ytest = train_test_split(t5data,y,test_size=.25,random_state=1)\n",
        "model1.fit(t5xtrain, t5ytrain)\n",
        "t5y_pred = model1.predict(t5xtest)\n",
        "preE=precision_score(ytest,t5y_pred)\n",
        "reE=recall_score(ytest,t5y_pred)\n",
        "fscoreE=f1_score(ytest,t5y_pred)\n",
        "accuracyE = accuracy_score(t5ytest, t5y_pred)\n",
        "print(\"Accuracy:\", accuracyE)\n",
        "print(\"Precision:\",preE)\n",
        "print(\"Recall:\",reE)\n",
        "print(\"F1 Score:\",fscoreE)"
      ],
      "metadata": {
        "colab": {
          "base_uri": "https://localhost:8080/"
        },
        "id": "CjB2FpHxoaw5",
        "outputId": "38a00b20-cfe5-4206-c4f8-a76b835c1999"
      },
      "execution_count": null,
      "outputs": [
        {
          "output_type": "stream",
          "name": "stdout",
          "text": [
            "Accuracy: 0.8235294117647058\n",
            "Precision: 0.7631578947368421\n",
            "Recall: 0.6590909090909091\n",
            "F1 Score: 0.7073170731707317\n"
          ]
        }
      ]
    },
    {
      "cell_type": "code",
      "source": [
        "#top10 serially chi2 84.5%\n",
        "t5columnsl = ['Skin darkening (Y/N)', 'hair growth(Y/N)', 'Weight gain(Y/N)','Weight (Kg)','Cycle(R/I)', 'Fast food (Y/N)','Pimples(Y/N)', 'Marraige Status (Yrs)',\n",
        "' Age (yrs)','BMI']\n",
        "t5data = df[t5columnsl]\n",
        "\n",
        "t5xtrain,t5xtest,t5ytrain,t5ytest = train_test_split(t5data,y,test_size=.25,random_state=1)\n",
        "model.fit(t5xtrain, t5ytrain)\n",
        "t5y_pred = model.predict(t5xtest)\n",
        "preC=precision_score(ytest,t5y_pred)\n",
        "reC=recall_score(ytest,t5y_pred)\n",
        "fscoreC=f1_score(ytest,t5y_pred)\n",
        "accuracyC = accuracy_score(t5ytest, t5y_pred)\n",
        "print(\"Accuracy:\", accuracyC)\n",
        "print(\"Precision:\",preC)\n",
        "print(\"Recall:\",reC)\n",
        "print(\"F1 Score:\",fscoreC)\n"
      ],
      "metadata": {
        "colab": {
          "base_uri": "https://localhost:8080/"
        },
        "id": "4Eqf2S1Yoith",
        "outputId": "d20c5fd7-02b0-4ad8-9153-b45950d477de"
      },
      "execution_count": null,
      "outputs": [
        {
          "output_type": "stream",
          "name": "stdout",
          "text": [
            "Accuracy: 0.8455882352941176\n",
            "Precision: 0.7446808510638298\n",
            "Recall: 0.7954545454545454\n",
            "F1 Score: 0.7692307692307692\n"
          ]
        }
      ]
    },
    {
      "cell_type": "code",
      "source": [
        "#top10 serially extra tree 84.5%\n",
        "t5columnsl = ['hair growth(Y/N)','Skin darkening (Y/N)', 'Weight gain(Y/N)','Cycle(R/I)', 'Fast food (Y/N)','Pimples(Y/N)', 'Cycle length(days)','Avg. F size (L) (mm)',\n",
        "'Hip(inch)','Marraige Status (Yrs)','Waist:Hip Ratio']\n",
        "t5data = df[t5columnsl]\n",
        "\n",
        "t5xtrain,t5xtest,t5ytrain,t5ytest = train_test_split(t5data,y,test_size=.25,random_state=1)\n",
        "model1.fit(t5xtrain, t5ytrain)\n",
        "t5y_pred = model1.predict(t5xtest)\n",
        "preE=precision_score(ytest,t5y_pred)\n",
        "reE=recall_score(ytest,t5y_pred)\n",
        "fscoreE=f1_score(ytest,t5y_pred)\n",
        "accuracyE = accuracy_score(t5ytest, t5y_pred)\n",
        "print(\"Accuracy:\", accuracyE)\n",
        "print(\"Precision:\",preE)\n",
        "print(\"Recall:\",reE)\n",
        "print(\"F1 Score:\",fscoreE)\n"
      ],
      "metadata": {
        "colab": {
          "base_uri": "https://localhost:8080/"
        },
        "id": "UOCt3jDdrEMh",
        "outputId": "4e03a0ad-be12-4d05-fa2e-6d1204e8187f"
      },
      "execution_count": null,
      "outputs": [
        {
          "output_type": "stream",
          "name": "stdout",
          "text": [
            "Accuracy: 0.8455882352941176\n",
            "Precision: 0.7555555555555555\n",
            "Recall: 0.7727272727272727\n",
            "F1 Score: 0.7640449438202247\n"
          ]
        }
      ]
    },
    {
      "cell_type": "code",
      "source": [
        "x1 = [\"Acc_C5\", \"Acc_C10\", \"Acc_C12\",\"Acc_E5\",\"Acc_E10\", \"Acc_E12\"]\n",
        "y1 = [accuracyC5,accuracyC10,accuracyC12, accuracyE5, accuracyE10, accuracyE12]\n",
        "# Define colors for each bar\n",
        "colors = ['#FF6347', '#FF6347', '#FF6347', '#4157A2', '#4157A2', '#4157A2']\n",
        "plt.bar(x1, y1, color=colors)\n",
        "plt.show()"
      ],
      "metadata": {
        "colab": {
          "base_uri": "https://localhost:8080/",
          "height": 430
        },
        "id": "kFAowPcv1eeu",
        "outputId": "57b32eb3-0b93-45de-efa1-c2367b503039"
      },
      "execution_count": null,
      "outputs": [
        {
          "output_type": "display_data",
          "data": {
            "text/plain": [
              "<Figure size 640x480 with 1 Axes>"
            ],
            "image/png": "[encoded data removed]"
          },
          "metadata": {}
        }
      ]
    },
    {
      "cell_type": "markdown",
      "source": [
        "#Gradient Boost\n"
      ],
      "metadata": {
        "id": "qjJoXaU_2EgJ"
      }
    },
    {
      "cell_type": "code",
      "source": [
        "from sklearn.ensemble import GradientBoostingClassifier\n",
        "gb_clf2 = GradientBoostingClassifier(n_estimators=30, learning_rate=0.75, max_features=2, max_depth=3, random_state=0)\n",
        "gb_clf2.fit(xtrain, ytrain)\n",
        "ypred=gb_clf2.predict(xtest)\n",
        "print(\"Accuracy:\",metrics.accuracy_score(ytest,ypred))"
      ],
      "metadata": {
        "colab": {
          "base_uri": "https://localhost:8080/"
        },
        "id": "YTlm3h812LYZ",
        "outputId": "ce70d9ce-526e-4336-f3d8-12cb3dc3e8cc"
      },
      "execution_count": null,
      "outputs": [
        {
          "output_type": "stream",
          "name": "stdout",
          "text": [
            "Accuracy: 0.8602941176470589\n"
          ]
        }
      ]
    },
    {
      "cell_type": "code",
      "source": [
        "#top12 serially chi2 89%\n",
        "t5columnsl = ['Follicle No. (R)','Follicle No. (L)','Skin darkening (Y/N)', 'hair growth(Y/N)', 'Weight gain(Y/N)','Weight (Kg)','Cycle(R/I)', 'Fast food (Y/N)','Pimples(Y/N)', 'Marraige Status (Yrs)',\n",
        "' Age (yrs)','BMI']\n",
        "t5data = df[t5columnsl]\n",
        "\n",
        "t5xtrain,t5xtest,t5ytrain,t5ytest = train_test_split(t5data,y,test_size=.25,random_state=1)\n",
        "gb_clf2.fit(t5xtrain, t5ytrain)\n",
        "t5y_pred = gb_clf2.predict(t5xtest)\n",
        "preC=precision_score(ytest,t5y_pred)\n",
        "reC=recall_score(ytest,t5y_pred)\n",
        "fscoreC=f1_score(ytest,t5y_pred)\n",
        "accuracyC12= accuracy_score(t5ytest, t5y_pred)\n",
        "print(\"Accuracy:\", accuracyC12)\n",
        "print(\"Precision:\",preC)\n",
        "print(\"Recall:\",reC)\n",
        "print(\"F1 Score:\",fscoreC)\n",
        "\n"
      ],
      "metadata": {
        "colab": {
          "base_uri": "https://localhost:8080/"
        },
        "id": "D3cmI7Pb26aI",
        "outputId": "016cb503-df5a-4a3b-de29-759abe96b6f3"
      },
      "execution_count": null,
      "outputs": [
        {
          "output_type": "stream",
          "name": "stdout",
          "text": [
            "Accuracy: 0.8970588235294118\n",
            "Precision: 0.875\n",
            "Recall: 0.7954545454545454\n",
            "F1 Score: 0.8333333333333334\n"
          ]
        }
      ]
    },
    {
      "cell_type": "code",
      "source": [
        "#top12 serially extra tree 84%\n",
        "t5columnsl = ['Follicle No. (R)','Follicle No. (L)', 'hair growth(Y/N)','Skin darkening (Y/N)', 'Weight gain(Y/N)','Cycle(R/I)', 'Fast food (Y/N)','Pimples(Y/N)', 'Cycle length(days)','Avg. F size (L) (mm)',\n",
        "'Hip(inch)','Marraige Status (Yrs)']\n",
        "t5data = df[t5columnsl]\n",
        "\n",
        "t5xtrain,t5xtest,t5ytrain,t5ytest = train_test_split(t5data,y,test_size=.25,random_state=1)\n",
        "gb_clf2.fit(t5xtrain, t5ytrain)\n",
        "t5y_pred = gb_clf2.predict(t5xtest)\n",
        "preE=precision_score(ytest,t5y_pred)\n",
        "reE=recall_score(ytest,t5y_pred)\n",
        "fscoreE=f1_score(ytest,t5y_pred)\n",
        "accuracyE12 = accuracy_score(t5ytest, t5y_pred)\n",
        "print(\"Accuracy:\", accuracyE12)\n",
        "print(\"Precision:\",preE)\n",
        "print(\"Recall:\",reE)\n",
        "print(\"F1 Score:\",fscoreE)\n",
        "\n"
      ],
      "metadata": {
        "colab": {
          "base_uri": "https://localhost:8080/"
        },
        "id": "YkEZVFhV21Qr",
        "outputId": "b35e7074-6e4d-45b9-8831-c1784416471d"
      },
      "execution_count": null,
      "outputs": [
        {
          "output_type": "stream",
          "name": "stdout",
          "text": [
            "Accuracy: 0.8455882352941176\n",
            "Precision: 0.8108108108108109\n",
            "Recall: 0.6818181818181818\n",
            "F1 Score: 0.7407407407407407\n"
          ]
        }
      ]
    },
    {
      "cell_type": "code",
      "source": [
        "x1 = [\"Pre_C\", \"Pre_E\", \"Acc_C\", \"Acc_E\", \"Rec_C\", \"Rec_E\", \"F1S_C\", \"F1S_E\"]\n",
        "y1 = [preC, preE, accuracyC, accuracyE, reC, reE, fscoreC, fscoreE]\n",
        "# Define colors for each bar\n",
        "colors = ['#4157A2', '#FF6347', '#4157A2', '#FF6347', '#4157A2', '#FF6347', '#4157A2', '#FF6347']\n",
        "plt.bar(x1, y1, color=colors)\n",
        "plt.show()"
      ],
      "metadata": {
        "colab": {
          "base_uri": "https://localhost:8080/",
          "height": 430
        },
        "id": "4B7FGGU32-7E",
        "outputId": "4056a1c0-3c13-4e8f-ded7-2e974387b180"
      },
      "execution_count": null,
      "outputs": [
        {
          "output_type": "display_data",
          "data": {
            "text/plain": [
              "<Figure size 640x480 with 1 Axes>"
            ],
            "image/png": "[encoded data removed]"
          },
          "metadata": {}
        }
      ]
    },
    {
      "cell_type": "code",
      "source": [
        "#top5 serially chi2 76%\n",
        "t5columnsl = ['Skin darkening (Y/N)', 'hair growth(Y/N)', 'Weight gain(Y/N)','Weight (Kg)','Fast food (Y/N)']\n",
        "t5data = df[t5columnsl]\n",
        "\n",
        "t5xtrain,t5xtest,t5ytrain,t5ytest = train_test_split(t5data,y,test_size=.25,random_state=1)\n",
        "gb_clf2.fit(t5xtrain, t5ytrain)\n",
        "t5y_pred = gb_clf2.predict(t5xtest)\n",
        "preC=precision_score(ytest,t5y_pred)\n",
        "reC=recall_score(ytest,t5y_pred)\n",
        "fscoreC=f1_score(ytest,t5y_pred)\n",
        "accuracyC5= accuracy_score(t5ytest, t5y_pred)\n",
        "print(\"Accuracy:\", accuracyC5)\n",
        "print(\"Precision:\",preC)\n",
        "print(\"Recall:\",reC)\n",
        "print(\"F1 Score:\",fscoreC)\n",
        "\n"
      ],
      "metadata": {
        "colab": {
          "base_uri": "https://localhost:8080/"
        },
        "id": "crNwFwQL3HQb",
        "outputId": "8f008be6-d5e1-48ec-d871-31f6a80a7fa6"
      },
      "execution_count": null,
      "outputs": [
        {
          "output_type": "stream",
          "name": "stdout",
          "text": [
            "Accuracy: 0.7647058823529411\n",
            "Precision: 0.6363636363636364\n",
            "Recall: 0.6363636363636364\n",
            "F1 Score: 0.6363636363636364\n"
          ]
        }
      ]
    },
    {
      "cell_type": "code",
      "source": [
        "#top5 serially extra tree 83%\n",
        "t5columnsl = ['hair growth(Y/N)','Skin darkening (Y/N)', 'Weight gain(Y/N)','Cycle(R/I)', 'Fast food (Y/N)']\n",
        "t5data = df[t5columnsl]\n",
        "\n",
        "t5xtrain,t5xtest,t5ytrain,t5ytest = train_test_split(t5data,y,test_size=.25,random_state=1)\n",
        "gb_clf2.fit(t5xtrain, t5ytrain)\n",
        "t5y_pred = gb_clf2.predict(t5xtest)\n",
        "preE=precision_score(ytest,t5y_pred)\n",
        "reE=recall_score(ytest,t5y_pred)\n",
        "fscoreE=f1_score(ytest,t5y_pred)\n",
        "accuracyE5 = accuracy_score(t5ytest, t5y_pred)\n",
        "print(\"Accuracy:\", accuracyE5)\n",
        "print(\"Precision:\",preE)\n",
        "print(\"Recall:\",reE)\n",
        "print(\"F1 Score:\",fscoreE)\n",
        "\n"
      ],
      "metadata": {
        "colab": {
          "base_uri": "https://localhost:8080/"
        },
        "id": "4wpvmYfA3AYD",
        "outputId": "e58de35d-f36f-4878-93e4-eefa7582baa5"
      },
      "execution_count": null,
      "outputs": [
        {
          "output_type": "stream",
          "name": "stdout",
          "text": [
            "Accuracy: 0.8382352941176471\n",
            "Precision: 0.75\n",
            "Recall: 0.75\n",
            "F1 Score: 0.75\n"
          ]
        }
      ]
    },
    {
      "cell_type": "code",
      "source": [
        "#top10 serially chi2 79%\n",
        "t5columnsl = ['Skin darkening (Y/N)', 'hair growth(Y/N)', 'Weight gain(Y/N)','Weight (Kg)','Cycle(R/I)', 'Fast food (Y/N)','Pimples(Y/N)', 'Marraige Status (Yrs)',\n",
        "' Age (yrs)','BMI']\n",
        "t5data = df[t5columnsl]\n",
        "\n",
        "t5xtrain,t5xtest,t5ytrain,t5ytest = train_test_split(t5data,y,test_size=.25,random_state=1)\n",
        "gb_clf2.fit(t5xtrain, t5ytrain)\n",
        "t5y_pred = gb_clf2.predict(t5xtest)\n",
        "preC=precision_score(ytest,t5y_pred)\n",
        "reC=recall_score(ytest,t5y_pred)\n",
        "fscoreC=f1_score(ytest,t5y_pred)\n",
        "accuracyC10= accuracy_score(t5ytest, t5y_pred)\n",
        "print(\"Accuracy:\", accuracyC10)\n",
        "print(\"Precision:\",preC)\n",
        "print(\"Recall:\",reC)\n",
        "print(\"F1 Score:\",fscoreC)\n",
        "\n"
      ],
      "metadata": {
        "colab": {
          "base_uri": "https://localhost:8080/"
        },
        "id": "yMCqap5D3fMy",
        "outputId": "310a1cac-0d69-41a6-c4db-b17a96b2041b"
      },
      "execution_count": null,
      "outputs": [
        {
          "output_type": "stream",
          "name": "stdout",
          "text": [
            "Accuracy: 0.7941176470588235\n",
            "Precision: 0.6739130434782609\n",
            "Recall: 0.7045454545454546\n",
            "F1 Score: 0.688888888888889\n"
          ]
        }
      ]
    },
    {
      "cell_type": "code",
      "source": [
        "#top10 serially extra tree 85%\n",
        "t5columnsl = [ 'hair growth(Y/N)','Skin darkening (Y/N)', 'Weight gain(Y/N)','Cycle(R/I)', 'Fast food (Y/N)','Pimples(Y/N)', 'Cycle length(days)','Avg. F size (L) (mm)',\n",
        "'Hip(inch)','Marraige Status (Yrs)','Waist:Hip Ratio']\n",
        "t5data = df[t5columnsl]\n",
        "\n",
        "t5xtrain,t5xtest,t5ytrain,t5ytest = train_test_split(t5data,y,test_size=.25,random_state=1)\n",
        "gb_clf2.fit(t5xtrain, t5ytrain)\n",
        "t5y_pred = gb_clf2.predict(t5xtest)\n",
        "preE=precision_score(ytest,t5y_pred)\n",
        "reE=recall_score(ytest,t5y_pred)\n",
        "fscoreE=f1_score(ytest,t5y_pred)\n",
        "accuracyE10 = accuracy_score(t5ytest, t5y_pred)\n",
        "print(\"Accuracy:\", accuracyE10)\n",
        "print(\"Precision:\",preE)\n",
        "print(\"Recall:\",reE)\n",
        "print(\"F1 Score:\",fscoreE)\n",
        "\n"
      ],
      "metadata": {
        "colab": {
          "base_uri": "https://localhost:8080/"
        },
        "id": "v_wwEZhK3pdu",
        "outputId": "a17479ae-38ab-4b34-b84d-b209e1fbd718"
      },
      "execution_count": null,
      "outputs": [
        {
          "output_type": "stream",
          "name": "stdout",
          "text": [
            "Accuracy: 0.8529411764705882\n",
            "Precision: 0.8\n",
            "Recall: 0.7272727272727273\n",
            "F1 Score: 0.761904761904762\n"
          ]
        }
      ]
    },
    {
      "cell_type": "code",
      "source": [
        "x1 = [\"Acc_C5\", \"Acc_C10\", \"Acc_C12\",\"Acc_E5\",\"Acc_E10\", \"Acc_E12\"]\n",
        "y1 = [accuracyC5,accuracyC10,accuracyC12, accuracyE5, accuracyE10, accuracyE12]\n",
        "# Define colors for each bar\n",
        "colors = ['#FF6347', '#FF6347', '#FF6347', '#4157A2', '#4157A2', '#4157A2']\n",
        "plt.bar(x1, y1, color=colors)\n",
        "plt.show()"
      ],
      "metadata": {
        "colab": {
          "base_uri": "https://localhost:8080/",
          "height": 430
        },
        "id": "gZ5EFlPnElJg",
        "outputId": "20e68322-833d-4dc2-8cfe-e41ca9f6543a"
      },
      "execution_count": null,
      "outputs": [
        {
          "output_type": "display_data",
          "data": {
            "text/plain": [
              "<Figure size 640x480 with 1 Axes>"
            ],
            "image/png": "[encoded data removed]"
          },
          "metadata": {}
        }
      ]
    }
  ]
}